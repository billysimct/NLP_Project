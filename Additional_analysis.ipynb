{
  "cells": [
    {
      "cell_type": "code",
      "execution_count": 1,
      "metadata": {
        "colab": {
          "base_uri": "https://localhost:8080/"
        },
        "id": "lpW_mdzPvs_I",
        "outputId": "954ca429-4ac5-4bf9-f0de-a8580b1be94d"
      },
      "outputs": [
        {
          "name": "stderr",
          "output_type": "stream",
          "text": [
            "[nltk_data] Downloading package stopwords to /root/nltk_data...\n",
            "[nltk_data]   Unzipping corpora/stopwords.zip.\n",
            "[nltk_data] Downloading package punkt to /root/nltk_data...\n",
            "[nltk_data]   Unzipping tokenizers/punkt.zip.\n"
          ]
        },
        {
          "name": "stdout",
          "output_type": "stream",
          "text": [
            "Looking in indexes: https://pypi.org/simple, https://us-python.pkg.dev/colab-wheels/public/simple/\n",
            "Requirement already satisfied: xgboost in /usr/local/lib/python3.10/dist-packages (1.7.5)\n",
            "Requirement already satisfied: numpy in /usr/local/lib/python3.10/dist-packages (from xgboost) (1.22.4)\n",
            "Requirement already satisfied: scipy in /usr/local/lib/python3.10/dist-packages (from xgboost) (1.10.1)\n"
          ]
        }
      ],
      "source": [
        "import pandas as pd\n",
        "import numpy as np\n",
        "from sklearn.feature_extraction.text import TfidfVectorizer\n",
        "\n",
        "from sklearn.model_selection import train_test_split\n",
        "from sklearn.metrics import accuracy_score, confusion_matrix\n",
        "from sklearn.pipeline import make_pipeline\n",
        "from sklearn.preprocessing import StandardScaler\n",
        "from nltk.corpus import stopwords\n",
        "import re\n",
        "import nltk\n",
        "nltk.download('stopwords')\n",
        "nltk.download('punkt')\n",
        "\n",
        "from sklearn.tree import DecisionTreeClassifier\n",
        "from sklearn.ensemble import RandomForestClassifier\n",
        "!pip install xgboost\n",
        "import xgboost as xgb"
      ]
    },
    {
      "attachments": {},
      "cell_type": "markdown",
      "metadata": {
        "id": "0skNKVXQrB7q"
      },
      "source": [
        "# Multi-modal learning\n",
        "The way to approach this problem is to separately process the text and quantitative data. <br> For the text data, we will need to transform it into numerical form using an embedding of some sort. <br> The quantitative data can be pre-processed using the standard pre-processing techniques such as normalization. <br>The two sets of data are then concate to put into one single classifier ML algorithm.\n",
        "<br><br> To tackle this challenge, we will utilize basic algorithms first before stepping up to transformers, GPT embeddings etc."
      ]
    },
    {
      "cell_type": "code",
      "execution_count": 2,
      "metadata": {
        "colab": {
          "base_uri": "https://localhost:8080/",
          "height": 423
        },
        "id": "h44QmDDqVvle",
        "outputId": "64655e90-d9e8-42fa-a471-12dd9548c197"
      },
      "outputs": [
        {
          "data": {
            "text/html": [
              "\n",
              "  <div id=\"df-ae37c567-6271-43a2-ba5f-e0a01f328350\">\n",
              "    <div class=\"colab-df-container\">\n",
              "      <div>\n",
              "<style scoped>\n",
              "    .dataframe tbody tr th:only-of-type {\n",
              "        vertical-align: middle;\n",
              "    }\n",
              "\n",
              "    .dataframe tbody tr th {\n",
              "        vertical-align: top;\n",
              "    }\n",
              "\n",
              "    .dataframe thead th {\n",
              "        text-align: right;\n",
              "    }\n",
              "</style>\n",
              "<table border=\"1\" class=\"dataframe\">\n",
              "  <thead>\n",
              "    <tr style=\"text-align: right;\">\n",
              "      <th></th>\n",
              "      <th>Meeting_Date</th>\n",
              "      <th>Statement</th>\n",
              "    </tr>\n",
              "  </thead>\n",
              "  <tbody>\n",
              "    <tr>\n",
              "      <th>0</th>\n",
              "      <td>1997-03-25</td>\n",
              "      <td>_x000D_\\n_x000D_\\n\\tThe Federal Open Market Co...</td>\n",
              "    </tr>\n",
              "    <tr>\n",
              "      <th>1</th>\n",
              "      <td>1998-09-29</td>\n",
              "      <td>_x000D_\\nThe Federal Open Market Committee dec...</td>\n",
              "    </tr>\n",
              "    <tr>\n",
              "      <th>2</th>\n",
              "      <td>1998-10-15</td>\n",
              "      <td>_x000D_\\nThe Federal Reserve today announced t...</td>\n",
              "    </tr>\n",
              "    <tr>\n",
              "      <th>3</th>\n",
              "      <td>1998-11-17</td>\n",
              "      <td>_x000D_\\nThe Federal Reserve today announced t...</td>\n",
              "    </tr>\n",
              "    <tr>\n",
              "      <th>4</th>\n",
              "      <td>1999-05-18</td>\n",
              "      <td>_x000D_\\nThe Federal Reserve released the foll...</td>\n",
              "    </tr>\n",
              "    <tr>\n",
              "      <th>...</th>\n",
              "      <td>...</td>\n",
              "      <td>...</td>\n",
              "    </tr>\n",
              "    <tr>\n",
              "      <th>201</th>\n",
              "      <td>2022-09-21</td>\n",
              "      <td>\\nRecent indicators point to modest growth in ...</td>\n",
              "    </tr>\n",
              "    <tr>\n",
              "      <th>202</th>\n",
              "      <td>2022-11-02</td>\n",
              "      <td>\\nRecent indicators point to modest growth in ...</td>\n",
              "    </tr>\n",
              "    <tr>\n",
              "      <th>203</th>\n",
              "      <td>2022-12-14</td>\n",
              "      <td>\\nRecent indicators point to modest growth in ...</td>\n",
              "    </tr>\n",
              "    <tr>\n",
              "      <th>204</th>\n",
              "      <td>2023-02-01</td>\n",
              "      <td>\\nRecent indicators point to modest growth in ...</td>\n",
              "    </tr>\n",
              "    <tr>\n",
              "      <th>205</th>\n",
              "      <td>2023-03-22</td>\n",
              "      <td>\\nRecent indicators point to modest growth in ...</td>\n",
              "    </tr>\n",
              "  </tbody>\n",
              "</table>\n",
              "<p>206 rows × 2 columns</p>\n",
              "</div>\n",
              "      <button class=\"colab-df-convert\" onclick=\"convertToInteractive('df-ae37c567-6271-43a2-ba5f-e0a01f328350')\"\n",
              "              title=\"Convert this dataframe to an interactive table.\"\n",
              "              style=\"display:none;\">\n",
              "        \n",
              "  <svg xmlns=\"http://www.w3.org/2000/svg\" height=\"24px\"viewBox=\"0 0 24 24\"\n",
              "       width=\"24px\">\n",
              "    <path d=\"M0 0h24v24H0V0z\" fill=\"none\"/>\n",
              "    <path d=\"M18.56 5.44l.94 2.06.94-2.06 2.06-.94-2.06-.94-.94-2.06-.94 2.06-2.06.94zm-11 1L8.5 8.5l.94-2.06 2.06-.94-2.06-.94L8.5 2.5l-.94 2.06-2.06.94zm10 10l.94 2.06.94-2.06 2.06-.94-2.06-.94-.94-2.06-.94 2.06-2.06.94z\"/><path d=\"M17.41 7.96l-1.37-1.37c-.4-.4-.92-.59-1.43-.59-.52 0-1.04.2-1.43.59L10.3 9.45l-7.72 7.72c-.78.78-.78 2.05 0 2.83L4 21.41c.39.39.9.59 1.41.59.51 0 1.02-.2 1.41-.59l7.78-7.78 2.81-2.81c.8-.78.8-2.07 0-2.86zM5.41 20L4 18.59l7.72-7.72 1.47 1.35L5.41 20z\"/>\n",
              "  </svg>\n",
              "      </button>\n",
              "      \n",
              "  <style>\n",
              "    .colab-df-container {\n",
              "      display:flex;\n",
              "      flex-wrap:wrap;\n",
              "      gap: 12px;\n",
              "    }\n",
              "\n",
              "    .colab-df-convert {\n",
              "      background-color: #E8F0FE;\n",
              "      border: none;\n",
              "      border-radius: 50%;\n",
              "      cursor: pointer;\n",
              "      display: none;\n",
              "      fill: #1967D2;\n",
              "      height: 32px;\n",
              "      padding: 0 0 0 0;\n",
              "      width: 32px;\n",
              "    }\n",
              "\n",
              "    .colab-df-convert:hover {\n",
              "      background-color: #E2EBFA;\n",
              "      box-shadow: 0px 1px 2px rgba(60, 64, 67, 0.3), 0px 1px 3px 1px rgba(60, 64, 67, 0.15);\n",
              "      fill: #174EA6;\n",
              "    }\n",
              "\n",
              "    [theme=dark] .colab-df-convert {\n",
              "      background-color: #3B4455;\n",
              "      fill: #D2E3FC;\n",
              "    }\n",
              "\n",
              "    [theme=dark] .colab-df-convert:hover {\n",
              "      background-color: #434B5C;\n",
              "      box-shadow: 0px 1px 3px 1px rgba(0, 0, 0, 0.15);\n",
              "      filter: drop-shadow(0px 1px 2px rgba(0, 0, 0, 0.3));\n",
              "      fill: #FFFFFF;\n",
              "    }\n",
              "  </style>\n",
              "\n",
              "      <script>\n",
              "        const buttonEl =\n",
              "          document.querySelector('#df-ae37c567-6271-43a2-ba5f-e0a01f328350 button.colab-df-convert');\n",
              "        buttonEl.style.display =\n",
              "          google.colab.kernel.accessAllowed ? 'block' : 'none';\n",
              "\n",
              "        async function convertToInteractive(key) {\n",
              "          const element = document.querySelector('#df-ae37c567-6271-43a2-ba5f-e0a01f328350');\n",
              "          const dataTable =\n",
              "            await google.colab.kernel.invokeFunction('convertToInteractive',\n",
              "                                                     [key], {});\n",
              "          if (!dataTable) return;\n",
              "\n",
              "          const docLinkHtml = 'Like what you see? Visit the ' +\n",
              "            '<a target=\"_blank\" href=https://colab.research.google.com/notebooks/data_table.ipynb>data table notebook</a>'\n",
              "            + ' to learn more about interactive tables.';\n",
              "          element.innerHTML = '';\n",
              "          dataTable['output_type'] = 'display_data';\n",
              "          await google.colab.output.renderOutput(dataTable, element);\n",
              "          const docLink = document.createElement('div');\n",
              "          docLink.innerHTML = docLinkHtml;\n",
              "          element.appendChild(docLink);\n",
              "        }\n",
              "      </script>\n",
              "    </div>\n",
              "  </div>\n",
              "  "
            ],
            "text/plain": [
              "    Meeting_Date                                          Statement\n",
              "0     1997-03-25  _x000D_\\n_x000D_\\n\\tThe Federal Open Market Co...\n",
              "1     1998-09-29  _x000D_\\nThe Federal Open Market Committee dec...\n",
              "2     1998-10-15  _x000D_\\nThe Federal Reserve today announced t...\n",
              "3     1998-11-17  _x000D_\\nThe Federal Reserve today announced t...\n",
              "4     1999-05-18  _x000D_\\nThe Federal Reserve released the foll...\n",
              "..           ...                                                ...\n",
              "201   2022-09-21  \\nRecent indicators point to modest growth in ...\n",
              "202   2022-11-02  \\nRecent indicators point to modest growth in ...\n",
              "203   2022-12-14  \\nRecent indicators point to modest growth in ...\n",
              "204   2023-02-01  \\nRecent indicators point to modest growth in ...\n",
              "205   2023-03-22  \\nRecent indicators point to modest growth in ...\n",
              "\n",
              "[206 rows x 2 columns]"
            ]
          },
          "execution_count": 2,
          "metadata": {},
          "output_type": "execute_result"
        }
      ],
      "source": [
        "fomc_statements = pd.read_excel('FOMC Statements 1997-2023.xlsx')\n",
        "fomc_statements.rename(columns={\"Meeting Date\":\"Meeting_Date\", \"Unnamed: 1\":\"Statement\"}, inplace=True)\n",
        "fomc_statements"
      ]
    },
    {
      "cell_type": "code",
      "execution_count": 3,
      "metadata": {
        "colab": {
          "base_uri": "https://localhost:8080/",
          "height": 423
        },
        "id": "qJmKAnBvWKAq",
        "outputId": "a2532087-bacf-454e-d130-3106c2f4cc71"
      },
      "outputs": [
        {
          "data": {
            "text/html": [
              "\n",
              "  <div id=\"df-37678f89-caed-4c9a-b4cf-d9adfd037dfc\">\n",
              "    <div class=\"colab-df-container\">\n",
              "      <div>\n",
              "<style scoped>\n",
              "    .dataframe tbody tr th:only-of-type {\n",
              "        vertical-align: middle;\n",
              "    }\n",
              "\n",
              "    .dataframe tbody tr th {\n",
              "        vertical-align: top;\n",
              "    }\n",
              "\n",
              "    .dataframe thead th {\n",
              "        text-align: right;\n",
              "    }\n",
              "</style>\n",
              "<table border=\"1\" class=\"dataframe\">\n",
              "  <thead>\n",
              "    <tr style=\"text-align: right;\">\n",
              "      <th></th>\n",
              "      <th>Meeting_Date</th>\n",
              "      <th>Label</th>\n",
              "      <th>Fed_fund_rate</th>\n",
              "      <th>Unemployment_rate</th>\n",
              "      <th>Core_CPI</th>\n",
              "      <th>US_10-2_Spread</th>\n",
              "      <th>Fed_fund_rate_delta</th>\n",
              "      <th>Unemployment_rate_delta</th>\n",
              "      <th>Core_CPI_delta</th>\n",
              "      <th>US_10-2_Spread_delta</th>\n",
              "    </tr>\n",
              "  </thead>\n",
              "  <tbody>\n",
              "    <tr>\n",
              "      <th>0</th>\n",
              "      <td>1997-03-25</td>\n",
              "      <td>1</td>\n",
              "      <td>5.47</td>\n",
              "      <td>5.2</td>\n",
              "      <td>2.5</td>\n",
              "      <td>0.4530</td>\n",
              "      <td>0.43</td>\n",
              "      <td>-0.2</td>\n",
              "      <td>-0.1</td>\n",
              "      <td>-0.0530</td>\n",
              "    </tr>\n",
              "    <tr>\n",
              "      <th>1</th>\n",
              "      <td>1998-09-29</td>\n",
              "      <td>0</td>\n",
              "      <td>5.55</td>\n",
              "      <td>4.5</td>\n",
              "      <td>2.5</td>\n",
              "      <td>0.1200</td>\n",
              "      <td>-0.91</td>\n",
              "      <td>0.0</td>\n",
              "      <td>0.3</td>\n",
              "      <td>0.1340</td>\n",
              "    </tr>\n",
              "    <tr>\n",
              "      <th>2</th>\n",
              "      <td>1998-10-15</td>\n",
              "      <td>0</td>\n",
              "      <td>5.33</td>\n",
              "      <td>4.6</td>\n",
              "      <td>2.5</td>\n",
              "      <td>0.5820</td>\n",
              "      <td>0.07</td>\n",
              "      <td>0.1</td>\n",
              "      <td>0.3</td>\n",
              "      <td>0.5300</td>\n",
              "    </tr>\n",
              "    <tr>\n",
              "      <th>3</th>\n",
              "      <td>1998-11-17</td>\n",
              "      <td>0</td>\n",
              "      <td>5.45</td>\n",
              "      <td>4.5</td>\n",
              "      <td>2.3</td>\n",
              "      <td>0.3100</td>\n",
              "      <td>-0.87</td>\n",
              "      <td>0.0</td>\n",
              "      <td>0.1</td>\n",
              "      <td>0.2290</td>\n",
              "    </tr>\n",
              "    <tr>\n",
              "      <th>4</th>\n",
              "      <td>1999-05-18</td>\n",
              "      <td>0</td>\n",
              "      <td>5.01</td>\n",
              "      <td>4.3</td>\n",
              "      <td>2.2</td>\n",
              "      <td>0.3160</td>\n",
              "      <td>-0.09</td>\n",
              "      <td>0.0</td>\n",
              "      <td>-0.2</td>\n",
              "      <td>0.2140</td>\n",
              "    </tr>\n",
              "    <tr>\n",
              "      <th>...</th>\n",
              "      <td>...</td>\n",
              "      <td>...</td>\n",
              "      <td>...</td>\n",
              "      <td>...</td>\n",
              "      <td>...</td>\n",
              "      <td>...</td>\n",
              "      <td>...</td>\n",
              "      <td>...</td>\n",
              "      <td>...</td>\n",
              "      <td>...</td>\n",
              "    </tr>\n",
              "    <tr>\n",
              "      <th>201</th>\n",
              "      <td>2022-09-21</td>\n",
              "      <td>1</td>\n",
              "      <td>2.33</td>\n",
              "      <td>3.7</td>\n",
              "      <td>6.3</td>\n",
              "      <td>-0.5185</td>\n",
              "      <td>0.75</td>\n",
              "      <td>0.1</td>\n",
              "      <td>0.3</td>\n",
              "      <td>-0.5910</td>\n",
              "    </tr>\n",
              "    <tr>\n",
              "      <th>202</th>\n",
              "      <td>2022-11-02</td>\n",
              "      <td>1</td>\n",
              "      <td>3.08</td>\n",
              "      <td>3.7</td>\n",
              "      <td>6.3</td>\n",
              "      <td>-0.5192</td>\n",
              "      <td>0.75</td>\n",
              "      <td>0.2</td>\n",
              "      <td>0.4</td>\n",
              "      <td>-0.1648</td>\n",
              "    </tr>\n",
              "    <tr>\n",
              "      <th>203</th>\n",
              "      <td>2022-12-14</td>\n",
              "      <td>0</td>\n",
              "      <td>3.83</td>\n",
              "      <td>3.6</td>\n",
              "      <td>6.0</td>\n",
              "      <td>-0.7321</td>\n",
              "      <td>1.50</td>\n",
              "      <td>-0.1</td>\n",
              "      <td>-0.3</td>\n",
              "      <td>-0.3164</td>\n",
              "    </tr>\n",
              "    <tr>\n",
              "      <th>204</th>\n",
              "      <td>2023-02-01</td>\n",
              "      <td>0</td>\n",
              "      <td>4.33</td>\n",
              "      <td>3.4</td>\n",
              "      <td>5.6</td>\n",
              "      <td>-0.6897</td>\n",
              "      <td>0.50</td>\n",
              "      <td>-0.3</td>\n",
              "      <td>-0.7</td>\n",
              "      <td>-0.1228</td>\n",
              "    </tr>\n",
              "    <tr>\n",
              "      <th>205</th>\n",
              "      <td>2023-03-22</td>\n",
              "      <td>0</td>\n",
              "      <td>4.58</td>\n",
              "      <td>3.6</td>\n",
              "      <td>5.5</td>\n",
              "      <td>-0.5026</td>\n",
              "      <td>0.25</td>\n",
              "      <td>0.0</td>\n",
              "      <td>-0.5</td>\n",
              "      <td>0.0902</td>\n",
              "    </tr>\n",
              "  </tbody>\n",
              "</table>\n",
              "<p>206 rows × 10 columns</p>\n",
              "</div>\n",
              "      <button class=\"colab-df-convert\" onclick=\"convertToInteractive('df-37678f89-caed-4c9a-b4cf-d9adfd037dfc')\"\n",
              "              title=\"Convert this dataframe to an interactive table.\"\n",
              "              style=\"display:none;\">\n",
              "        \n",
              "  <svg xmlns=\"http://www.w3.org/2000/svg\" height=\"24px\"viewBox=\"0 0 24 24\"\n",
              "       width=\"24px\">\n",
              "    <path d=\"M0 0h24v24H0V0z\" fill=\"none\"/>\n",
              "    <path d=\"M18.56 5.44l.94 2.06.94-2.06 2.06-.94-2.06-.94-.94-2.06-.94 2.06-2.06.94zm-11 1L8.5 8.5l.94-2.06 2.06-.94-2.06-.94L8.5 2.5l-.94 2.06-2.06.94zm10 10l.94 2.06.94-2.06 2.06-.94-2.06-.94-.94-2.06-.94 2.06-2.06.94z\"/><path d=\"M17.41 7.96l-1.37-1.37c-.4-.4-.92-.59-1.43-.59-.52 0-1.04.2-1.43.59L10.3 9.45l-7.72 7.72c-.78.78-.78 2.05 0 2.83L4 21.41c.39.39.9.59 1.41.59.51 0 1.02-.2 1.41-.59l7.78-7.78 2.81-2.81c.8-.78.8-2.07 0-2.86zM5.41 20L4 18.59l7.72-7.72 1.47 1.35L5.41 20z\"/>\n",
              "  </svg>\n",
              "      </button>\n",
              "      \n",
              "  <style>\n",
              "    .colab-df-container {\n",
              "      display:flex;\n",
              "      flex-wrap:wrap;\n",
              "      gap: 12px;\n",
              "    }\n",
              "\n",
              "    .colab-df-convert {\n",
              "      background-color: #E8F0FE;\n",
              "      border: none;\n",
              "      border-radius: 50%;\n",
              "      cursor: pointer;\n",
              "      display: none;\n",
              "      fill: #1967D2;\n",
              "      height: 32px;\n",
              "      padding: 0 0 0 0;\n",
              "      width: 32px;\n",
              "    }\n",
              "\n",
              "    .colab-df-convert:hover {\n",
              "      background-color: #E2EBFA;\n",
              "      box-shadow: 0px 1px 2px rgba(60, 64, 67, 0.3), 0px 1px 3px 1px rgba(60, 64, 67, 0.15);\n",
              "      fill: #174EA6;\n",
              "    }\n",
              "\n",
              "    [theme=dark] .colab-df-convert {\n",
              "      background-color: #3B4455;\n",
              "      fill: #D2E3FC;\n",
              "    }\n",
              "\n",
              "    [theme=dark] .colab-df-convert:hover {\n",
              "      background-color: #434B5C;\n",
              "      box-shadow: 0px 1px 3px 1px rgba(0, 0, 0, 0.15);\n",
              "      filter: drop-shadow(0px 1px 2px rgba(0, 0, 0, 0.3));\n",
              "      fill: #FFFFFF;\n",
              "    }\n",
              "  </style>\n",
              "\n",
              "      <script>\n",
              "        const buttonEl =\n",
              "          document.querySelector('#df-37678f89-caed-4c9a-b4cf-d9adfd037dfc button.colab-df-convert');\n",
              "        buttonEl.style.display =\n",
              "          google.colab.kernel.accessAllowed ? 'block' : 'none';\n",
              "\n",
              "        async function convertToInteractive(key) {\n",
              "          const element = document.querySelector('#df-37678f89-caed-4c9a-b4cf-d9adfd037dfc');\n",
              "          const dataTable =\n",
              "            await google.colab.kernel.invokeFunction('convertToInteractive',\n",
              "                                                     [key], {});\n",
              "          if (!dataTable) return;\n",
              "\n",
              "          const docLinkHtml = 'Like what you see? Visit the ' +\n",
              "            '<a target=\"_blank\" href=https://colab.research.google.com/notebooks/data_table.ipynb>data table notebook</a>'\n",
              "            + ' to learn more about interactive tables.';\n",
              "          element.innerHTML = '';\n",
              "          dataTable['output_type'] = 'display_data';\n",
              "          await google.colab.output.renderOutput(dataTable, element);\n",
              "          const docLink = document.createElement('div');\n",
              "          docLink.innerHTML = docLinkHtml;\n",
              "          element.appendChild(docLink);\n",
              "        }\n",
              "      </script>\n",
              "    </div>\n",
              "  </div>\n",
              "  "
            ],
            "text/plain": [
              "    Meeting_Date  Label  Fed_fund_rate  Unemployment_rate  Core_CPI  \\\n",
              "0     1997-03-25      1           5.47                5.2       2.5   \n",
              "1     1998-09-29      0           5.55                4.5       2.5   \n",
              "2     1998-10-15      0           5.33                4.6       2.5   \n",
              "3     1998-11-17      0           5.45                4.5       2.3   \n",
              "4     1999-05-18      0           5.01                4.3       2.2   \n",
              "..           ...    ...            ...                ...       ...   \n",
              "201   2022-09-21      1           2.33                3.7       6.3   \n",
              "202   2022-11-02      1           3.08                3.7       6.3   \n",
              "203   2022-12-14      0           3.83                3.6       6.0   \n",
              "204   2023-02-01      0           4.33                3.4       5.6   \n",
              "205   2023-03-22      0           4.58                3.6       5.5   \n",
              "\n",
              "     US_10-2_Spread  Fed_fund_rate_delta  Unemployment_rate_delta  \\\n",
              "0            0.4530                 0.43                     -0.2   \n",
              "1            0.1200                -0.91                      0.0   \n",
              "2            0.5820                 0.07                      0.1   \n",
              "3            0.3100                -0.87                      0.0   \n",
              "4            0.3160                -0.09                      0.0   \n",
              "..              ...                  ...                      ...   \n",
              "201         -0.5185                 0.75                      0.1   \n",
              "202         -0.5192                 0.75                      0.2   \n",
              "203         -0.7321                 1.50                     -0.1   \n",
              "204         -0.6897                 0.50                     -0.3   \n",
              "205         -0.5026                 0.25                      0.0   \n",
              "\n",
              "     Core_CPI_delta  US_10-2_Spread_delta  \n",
              "0              -0.1               -0.0530  \n",
              "1               0.3                0.1340  \n",
              "2               0.3                0.5300  \n",
              "3               0.1                0.2290  \n",
              "4              -0.2                0.2140  \n",
              "..              ...                   ...  \n",
              "201             0.3               -0.5910  \n",
              "202             0.4               -0.1648  \n",
              "203            -0.3               -0.3164  \n",
              "204            -0.7               -0.1228  \n",
              "205            -0.5                0.0902  \n",
              "\n",
              "[206 rows x 10 columns]"
            ]
          },
          "execution_count": 3,
          "metadata": {},
          "output_type": "execute_result"
        }
      ],
      "source": [
        "econs_metrics = pd.read_excel('FOMC_econometrics_v1.xlsx')\n",
        "econs_metrics.rename(columns={'Dates':'Meeting_Date'}, inplace=True)\n",
        "econs_metrics"
      ]
    },
    {
      "cell_type": "code",
      "execution_count": 4,
      "metadata": {
        "id": "eJxTDb0dr0KO"
      },
      "outputs": [],
      "source": [
        "combined_df = pd.merge(fomc_statements, econs_metrics, on='Meeting_Date') #Merging the dataframes, this is to ensure that the metrics matches the statements and labels.\n",
        "y_labels = combined_df['Label']\n",
        "x_text = combined_df['Statement']\n",
        "x_metrics = combined_df[['Fed_fund_rate', 'Unemployment_rate', 'Core_CPI', 'US_10-2_Spread']]\n",
        "x_metrics_delta = combined_df[['Fed_fund_rate_delta', 'Unemployment_rate_delta', 'Core_CPI_delta', 'US_10-2_Spread_delta']]\n",
        "x_metrics_all = combined_df[['Fed_fund_rate', 'Unemployment_rate', 'Core_CPI', 'US_10-2_Spread', 'Fed_fund_rate_delta', 'Unemployment_rate_delta', 'Core_CPI_delta', 'US_10-2_Spread_delta']]"
      ]
    },
    {
      "attachments": {},
      "cell_type": "markdown",
      "metadata": {
        "id": "bt8-Nq6ysJst"
      },
      "source": [
        "# We will first utilize the simple TfidfVectorizer"
      ]
    },
    {
      "cell_type": "code",
      "execution_count": 33,
      "metadata": {
        "id": "qPG9RYYZ6ATB"
      },
      "outputs": [],
      "source": [
        "### Initialize only for absolute metrics ###\n",
        "DT_model_tfidf = make_pipeline(StandardScaler(), DecisionTreeClassifier(random_state=3407))\n",
        "RF_model_tfidf = make_pipeline(StandardScaler(), RandomForestClassifier(random_state=3407))\n",
        "XGB_model_tfidf = make_pipeline(StandardScaler(), xgb.XGBClassifier(objective='binary:logistic', random_state=3407))\n",
        "\n",
        "### Initialize only for metrics delta ###\n",
        "DT_model_tfidf_delta = make_pipeline(StandardScaler(), DecisionTreeClassifier(random_state=3407))\n",
        "RF_model_tfidf_delta = make_pipeline(StandardScaler(), RandomForestClassifier(random_state=3407))\n",
        "XGB_model_tfidf_delta = make_pipeline(StandardScaler(), xgb.XGBClassifier(objective='binary:logistic', random_state=3407))\n",
        "\n",
        "### Initialize only for all metrics ###\n",
        "DT_model_tfidf_all = make_pipeline(StandardScaler(), DecisionTreeClassifier(random_state=3407))\n",
        "RF_model_tfidf_all = make_pipeline(StandardScaler(), RandomForestClassifier(random_state=3407))\n",
        "XGB_model_tfidf_all = make_pipeline(StandardScaler(), xgb.XGBClassifier(objective='binary:logistic', random_state=3407))"
      ]
    },
    {
      "cell_type": "code",
      "execution_count": 34,
      "metadata": {
        "id": "vr39jqYRYTIw"
      },
      "outputs": [],
      "source": [
        "### Processing of text data applies to all ###\n",
        "tfidf_x_text = x_text.apply(lambda x: re.sub('[^\\w\\s]', '', x.lower())) #To lowercase all text and remove punctuations\n",
        "vectorizer = TfidfVectorizer(stop_words=stopwords.words('english'), max_features=600) #Calling the Tfidf vectorizer object\n",
        "tfidf_x_text = vectorizer.fit_transform(tfidf_x_text).toarray() #Convert the text data to numerical data\n",
        "\n",
        "### With absolute metrics ###\n",
        "tfidf_X_abs = np.concatenate((tfidf_x_text, x_metrics.values), axis=1) #Concate the converted text data with the metrics data\n",
        "tfidf_X_train_abs, tfidf_X_test_abs, y_train_abs, y_test_abs = train_test_split(tfidf_X_abs, y_labels, test_size=0.2, random_state=3407) #Split the data into a training set and a test set\n",
        "\n",
        "### With metrics delta ###\n",
        "tfidf_X_delta = np.concatenate((tfidf_x_text, x_metrics_delta.values), axis=1)\n",
        "tfidf_X_train_delta, tfidf_X_test_delta, y_train_delta, y_test_delta = train_test_split(tfidf_X_delta, y_labels, test_size=0.2, random_state=3407) #Split the data into a training set and a test set\n",
        "\n",
        "### With all metrics ###\n",
        "tfidf_X_all = np.concatenate((tfidf_x_text, x_metrics_all.values), axis=1) #Concate the converted text data with the metrics data\n",
        "tfidf_X_train_all, tfidf_X_test_all, y_train_all, y_test_all = train_test_split(tfidf_X_all, y_labels, test_size=0.2, random_state=3407) #Split the data into a training set and a test set"
      ]
    },
    {
      "cell_type": "code",
      "execution_count": 35,
      "metadata": {
        "colab": {
          "base_uri": "https://localhost:8080/"
        },
        "id": "ifbyA803A7VU",
        "outputId": "615b3742-b30a-45e4-d6c4-ba3d9e352db6"
      },
      "outputs": [
        {
          "name": "stdout",
          "output_type": "stream",
          "text": [
            "There are 604 features in the train dataset for absolute metrics only.\n",
            "There are 604 features in the train dataset for metrics delta only.\n",
            "There are 608 features in the train dataset for all metrics.\n"
          ]
        }
      ],
      "source": [
        "### Understanding the features ###\n",
        "print(f\"There are {len(tfidf_X_train_abs[0])} features in the train dataset for absolute metrics only.\")\n",
        "print(f\"There are {len(tfidf_X_train_delta[0])} features in the train dataset for metrics delta only.\")\n",
        "print(f\"There are {len(tfidf_X_train_all[0])} features in the train dataset for all metrics.\")"
      ]
    },
    {
      "attachments": {},
      "cell_type": "markdown",
      "metadata": {
        "id": "DiOxoJS-obD5"
      },
      "source": [
        "**Using the Decision Tree model**"
      ]
    },
    {
      "cell_type": "code",
      "execution_count": 36,
      "metadata": {
        "colab": {
          "base_uri": "https://localhost:8080/"
        },
        "id": "NGHC3t59onm-",
        "outputId": "ca49b13e-ac71-478d-d5eb-eabc9d0d2f2a"
      },
      "outputs": [
        {
          "name": "stdout",
          "output_type": "stream",
          "text": [
            "Accuracy for absolute metrics only: 0.47619047619047616\n",
            "Accuracy for metrics delta only: 0.47619047619047616\n",
            "Accuracy for all metrics: 0.5238095238095238\n"
          ]
        }
      ],
      "source": [
        "### Absolute metrics only ###\n",
        "DT_model_tfidf.fit(tfidf_X_train_abs, y_train_abs)\n",
        "DT_y_pred_abs = DT_model_tfidf.predict(tfidf_X_test_abs)\n",
        "print(f\"Accuracy for absolute metrics only: {accuracy_score(y_test_abs, DT_y_pred_abs)}\")\n",
        "\n",
        "### Metrics delta only ###\n",
        "DT_model_tfidf_delta.fit(tfidf_X_train_delta, y_train_delta)\n",
        "DT_y_pred_delta = DT_model_tfidf_delta.predict(tfidf_X_test_delta)\n",
        "print(f\"Accuracy for metrics delta only: {accuracy_score(y_test_delta, DT_y_pred_delta)}\")\n",
        "\n",
        "### All metrics ###\n",
        "DT_model_tfidf_all.fit(tfidf_X_train_all, y_train_all)\n",
        "DT_y_pred_all = DT_model_tfidf_all.predict(tfidf_X_test_all)\n",
        "print(f\"Accuracy for all metrics: {accuracy_score(y_test_all, DT_y_pred_all)}\")"
      ]
    },
    {
      "attachments": {},
      "cell_type": "markdown",
      "metadata": {
        "id": "FMCLo298mZdc"
      },
      "source": [
        "**Using the RandomForest model**"
      ]
    },
    {
      "cell_type": "code",
      "execution_count": 37,
      "metadata": {
        "colab": {
          "base_uri": "https://localhost:8080/"
        },
        "id": "JSgprRYqmFb_",
        "outputId": "295a4b26-42d4-44be-a87f-18bba3c400a0"
      },
      "outputs": [
        {
          "name": "stdout",
          "output_type": "stream",
          "text": [
            "Accuracy for absolute metrics only: 0.6428571428571429\n",
            "Accuracy for metrics delta only: 0.6190476190476191\n",
            "Accuracy for all metrics: 0.6428571428571429\n"
          ]
        }
      ],
      "source": [
        "### Absolute metrics only ###\n",
        "RF_model_tfidf.fit(tfidf_X_train_abs, y_train_abs)\n",
        "RF_y_pred_abs = RF_model_tfidf.predict(tfidf_X_test_abs)\n",
        "print(f\"Accuracy for absolute metrics only: {accuracy_score(y_test_abs, RF_y_pred_abs)}\")\n",
        "\n",
        "### Metrics delta only ###\n",
        "RF_model_tfidf_delta.fit(tfidf_X_train_delta, y_train_delta)\n",
        "RF_y_pred_delta = RF_model_tfidf_delta.predict(tfidf_X_test_delta)\n",
        "print(f\"Accuracy for metrics delta only: {accuracy_score(y_test_delta, RF_y_pred_delta)}\")\n",
        "\n",
        "### All metrics ###\n",
        "RF_model_tfidf_all.fit(tfidf_X_train_all, y_train_all)\n",
        "RF_y_pred_all = RF_model_tfidf_all.predict(tfidf_X_test_all)\n",
        "print(f\"Accuracy for all metrics: {accuracy_score(y_test_all, RF_y_pred_all)}\")"
      ]
    },
    {
      "attachments": {},
      "cell_type": "markdown",
      "metadata": {
        "id": "lZt6kup0mg6H"
      },
      "source": [
        "**Using the XGBoost model**"
      ]
    },
    {
      "cell_type": "code",
      "execution_count": 38,
      "metadata": {
        "colab": {
          "base_uri": "https://localhost:8080/"
        },
        "id": "Jm0A5gKDnIfk",
        "outputId": "dcd5d3e4-bf7b-41b7-c825-f06054cf0ef3"
      },
      "outputs": [
        {
          "name": "stdout",
          "output_type": "stream",
          "text": [
            "Accuracy for absolute metrics only: 0.5952380952380952\n",
            "Accuracy for metrics delta only: 0.5714285714285714\n",
            "Accuracy for all metrics: 0.5952380952380952\n"
          ]
        }
      ],
      "source": [
        "### Absolute metrics only ###\n",
        "XGB_model_tfidf.fit(tfidf_X_train_abs, y_train_abs)\n",
        "XGB_y_pred_abs = XGB_model_tfidf.predict(tfidf_X_test_abs)\n",
        "print(f\"Accuracy for absolute metrics only: {accuracy_score(y_test_abs, XGB_y_pred_abs)}\")\n",
        "\n",
        "### Metrics delta only ###\n",
        "XGB_model_tfidf_delta.fit(tfidf_X_train_delta, y_train_delta)\n",
        "XGB_y_pred_delta = XGB_model_tfidf_delta.predict(tfidf_X_test_delta)\n",
        "print(f\"Accuracy for metrics delta only: {accuracy_score(y_test_delta, XGB_y_pred_delta)}\")\n",
        "\n",
        "## All metrics ###\n",
        "XGB_model_tfidf_all.fit(tfidf_X_train_all, y_train_all)\n",
        "XGB_y_pred_all = XGB_model_tfidf_all.predict(tfidf_X_test_all)\n",
        "print(f\"Accuracy for all metrics: {accuracy_score(y_test_all, XGB_y_pred_all)}\")"
      ]
    },
    {
      "attachments": {},
      "cell_type": "markdown",
      "metadata": {
        "id": "CyeYcq1OpT2C"
      },
      "source": [
        "# Previously, we tried using a simple Tfidf vectorizer, here we will use the more advanced Glove word embedding"
      ]
    },
    {
      "attachments": {},
      "cell_type": "markdown",
      "metadata": {
        "id": "WoKQoeWBuNFS"
      },
      "source": [
        "GloVe (Global Vectors for Word Representation) is a word embedding technique that represents words as dense vectors in a high-dimensional space. GloVe embeddings capture semantic and syntactic relationships between words based on their co-occurrence statistics in a corpus."
      ]
    },
    {
      "cell_type": "code",
      "execution_count": 8,
      "metadata": {
        "id": "ql3OEaVzurxt"
      },
      "outputs": [],
      "source": [
        "from gensim.scripts.glove2word2vec import glove2word2vec\n",
        "from gensim.models import KeyedVectors\n",
        "from nltk.tokenize import word_tokenize"
      ]
    },
    {
      "cell_type": "code",
      "execution_count": 40,
      "metadata": {
        "id": "fdEmfg8a6nOi"
      },
      "outputs": [],
      "source": [
        "### Initialize only for absolute metrics ###\n",
        "DT_model_glove = make_pipeline(StandardScaler(), DecisionTreeClassifier(random_state=3407))\n",
        "RF_model_glove = make_pipeline(StandardScaler(), RandomForestClassifier(random_state=3407))\n",
        "XGB_model_glove = make_pipeline(StandardScaler(), xgb.XGBClassifier(objective='binary:logistic', random_state=3407))\n",
        "\n",
        "### Initialize only for metrics delta ###\n",
        "DT_model_glove_delta = make_pipeline(StandardScaler(), DecisionTreeClassifier(random_state=3407))\n",
        "RF_model_glove_delta = make_pipeline(StandardScaler(), RandomForestClassifier(random_state=3407))\n",
        "XGB_model_glove_delta = make_pipeline(StandardScaler(), xgb.XGBClassifier(objective='binary:logistic', random_state=3407))\n",
        "\n",
        "### Initialize only for all metrics ###\n",
        "DT_model_glove_all = make_pipeline(StandardScaler(), DecisionTreeClassifier(random_state=3407))\n",
        "RF_model_glove_all = make_pipeline(StandardScaler(), RandomForestClassifier(random_state=3407))\n",
        "XGB_model_glove_all = make_pipeline(StandardScaler(), xgb.XGBClassifier(objective='binary:logistic', random_state=3407))"
      ]
    },
    {
      "cell_type": "code",
      "execution_count": null,
      "metadata": {
        "id": "VStIK9MeqsHW"
      },
      "outputs": [],
      "source": [
        "### To uncomment below the first time you run this to download the file from Stanford ###\n",
        "!wget https://downloads.cs.stanford.edu/nlp/data/glove.6B.zip\n",
        "!unzip glove*.zip"
      ]
    },
    {
      "cell_type": "code",
      "execution_count": null,
      "metadata": {
        "id": "M78wiKNNugHc"
      },
      "outputs": [],
      "source": [
        "# Convert the GloVe file to word2vec format\n",
        "glove_input_file = 'glove.6B.100d.txt'\n",
        "word2vec_output_file = 'glove.6B.100d.txt.word2vec'\n",
        "glove2word2vec(glove_input_file, word2vec_output_file)"
      ]
    },
    {
      "cell_type": "code",
      "execution_count": 43,
      "metadata": {
        "id": "pEX23CtLzslO"
      },
      "outputs": [],
      "source": [
        "# Load the converted GloVe vectors\n",
        "glove_model = KeyedVectors.load_word2vec_format(word2vec_output_file, binary=False)\n",
        "\n",
        "def get_vector(word):\n",
        "    if word in glove_model:\n",
        "        return glove_model[word]\n",
        "    else:\n",
        "        return np.zeros(glove_model.vector_size)"
      ]
    },
    {
      "cell_type": "code",
      "execution_count": 44,
      "metadata": {
        "id": "LQ8xnC8h1uW6"
      },
      "outputs": [],
      "source": [
        "glove_combined_df = combined_df.copy()\n",
        "glove_combined_df['Statement'] = glove_combined_df['Statement'].apply(word_tokenize) #Tokenize the text\n",
        "glove_combined_df['Vector'] = glove_combined_df['Statement'].apply(lambda x: np.mean([get_vector(w) for w in x], axis=0)) #Convert the text to vectors\n",
        "glove_temp = np.array(glove_combined_df['Vector'].to_list())"
      ]
    },
    {
      "cell_type": "code",
      "execution_count": 45,
      "metadata": {
        "id": "8N3x7KlH0-mU"
      },
      "outputs": [],
      "source": [
        "### With absolute metrics only ###\n",
        "glove_X_abs = np.concatenate((glove_temp, x_metrics.values), axis=1) #Concate the converted text data with the metrics data\n",
        "glove_X_train_abs, glove_X_test_abs, glove_y_train_abs, glove_y_test_abs = train_test_split(glove_X_abs, y_labels, test_size=0.2, random_state=3407) #Split the data into a training set and a test set\n",
        "\n",
        "### With delta metrics only ###\n",
        "glove_X_delta = np.concatenate((glove_temp, x_metrics_delta.values), axis=1)\n",
        "glove_X_train_delta, glove_X_test_delta, glove_y_train_delta, glove_y_test_delta = train_test_split(glove_X_delta, y_labels, test_size=0.2, random_state=3407)\n",
        "\n",
        "### With all metrics\n",
        "glove_X_all = np.concatenate((glove_temp, x_metrics_all.values), axis=1)\n",
        "glove_X_train_all, glove_X_test_all, glove_y_train_all, glove_y_test_all = train_test_split(glove_X_all, y_labels, test_size=0.2, random_state=3407)"
      ]
    },
    {
      "cell_type": "code",
      "execution_count": 46,
      "metadata": {
        "colab": {
          "base_uri": "https://localhost:8080/"
        },
        "id": "7jgUJChxBOW_",
        "outputId": "6ea3b4ce-4658-4b47-94d7-d7abe988ae12"
      },
      "outputs": [
        {
          "name": "stdout",
          "output_type": "stream",
          "text": [
            "There are 104 features in the train dataset for absolute metrics only.\n",
            "There are 104 features in the train dataset for metrics delta only.\n",
            "There are 108 features in the train dataset for all metrics.\n"
          ]
        }
      ],
      "source": [
        "### Understanding the features ###\n",
        "print(f\"There are {len(glove_X_train_abs[0])} features in the train dataset for absolute metrics only.\")\n",
        "print(f\"There are {len(glove_X_train_delta[0])} features in the train dataset for metrics delta only.\")\n",
        "print(f\"There are {len(glove_X_train_all[0])} features in the train dataset for all metrics.\")"
      ]
    },
    {
      "attachments": {},
      "cell_type": "markdown",
      "metadata": {
        "id": "c22QPMhm20kK"
      },
      "source": [
        "**Using the Decision Tree model**"
      ]
    },
    {
      "cell_type": "code",
      "execution_count": 48,
      "metadata": {
        "colab": {
          "base_uri": "https://localhost:8080/"
        },
        "id": "GSDXXoGm3YJk",
        "outputId": "0198a069-a83e-4467-8e25-bb1837f5f951"
      },
      "outputs": [
        {
          "name": "stdout",
          "output_type": "stream",
          "text": [
            "Accuracy for absolute metrics only: 0.47619047619047616\n",
            "Accuracy for metrics delta only: 0.5476190476190477\n",
            "Accuracy for all metrics: 0.5714285714285714\n"
          ]
        }
      ],
      "source": [
        "### Absolute metrics only ###\n",
        "DT_model_glove.fit(glove_X_train_abs, glove_y_train_abs)\n",
        "DT_y_pred_glove_abs = DT_model_glove.predict(glove_X_test_abs)\n",
        "print(f\"Accuracy for absolute metrics only: {accuracy_score(glove_y_test_abs, DT_y_pred_glove_abs)}\")\n",
        "\n",
        "### Metrics delta only ###\n",
        "DT_model_glove_delta.fit(glove_X_train_delta, glove_y_train_delta)\n",
        "DT_y_pred_glove_delta = DT_model_glove_delta.predict(glove_X_test_delta)\n",
        "print(f\"Accuracy for metrics delta only: {accuracy_score(glove_y_test_delta, DT_y_pred_glove_delta)}\")\n",
        "\n",
        "### All metrics ###\n",
        "DT_model_glove_all.fit(glove_X_train_all, glove_y_train_all)\n",
        "DT_y_pred_glove_all = DT_model_glove_all.predict(glove_X_test_all)\n",
        "print(f\"Accuracy for all metrics: {accuracy_score(glove_y_test_all, DT_y_pred_glove_all)}\")"
      ]
    },
    {
      "attachments": {},
      "cell_type": "markdown",
      "metadata": {
        "id": "dOd_8J-_3kdR"
      },
      "source": [
        "**Using the Random Forest model**"
      ]
    },
    {
      "cell_type": "code",
      "execution_count": 50,
      "metadata": {
        "colab": {
          "base_uri": "https://localhost:8080/"
        },
        "id": "e8a6R7X73gN2",
        "outputId": "6075e69e-ba1d-4c69-85c4-c2c789c07a3a"
      },
      "outputs": [
        {
          "name": "stdout",
          "output_type": "stream",
          "text": [
            "Accuracy for absolute metrics only: 0.5476190476190477\n",
            "Accuracy for metrics delta only: 0.6190476190476191\n",
            "Accuracy for all metrics: 0.6904761904761905\n"
          ]
        }
      ],
      "source": [
        "### Absolute metrics only ###\n",
        "RF_model_glove.fit(glove_X_train_abs, glove_y_train_abs)\n",
        "RF_y_pred_glove_abs = RF_model_glove.predict(glove_X_test_abs)\n",
        "print(f\"Accuracy for absolute metrics only: {accuracy_score(glove_y_test_abs, RF_y_pred_glove_abs)}\")\n",
        "\n",
        "### Metrics delta only ###\n",
        "RF_model_glove_delta.fit(glove_X_train_delta, glove_y_train_delta)\n",
        "RF_y_pred_glove_delta = RF_model_glove_delta.predict(glove_X_test_delta)\n",
        "print(f\"Accuracy for metrics delta only: {accuracy_score(glove_y_test_delta, RF_y_pred_glove_delta)}\")\n",
        "\n",
        "### All metrics ###\n",
        "RF_model_glove_all.fit(glove_X_train_all, glove_y_train_all)\n",
        "RF_y_pred_glove_all = RF_model_glove_all.predict(glove_X_test_all)\n",
        "print(f\"Accuracy for all metrics: {accuracy_score(glove_y_test_all, RF_y_pred_glove_all)}\")"
      ]
    },
    {
      "attachments": {},
      "cell_type": "markdown",
      "metadata": {
        "id": "fnVFguIK38OC"
      },
      "source": [
        "**Using the XGBoost model**"
      ]
    },
    {
      "cell_type": "code",
      "execution_count": 57,
      "metadata": {
        "colab": {
          "base_uri": "https://localhost:8080/"
        },
        "id": "XS6mGpdW3xBY",
        "outputId": "9da963dc-e3dd-4aea-be8a-d40af86f6205"
      },
      "outputs": [
        {
          "name": "stdout",
          "output_type": "stream",
          "text": [
            "Accuracy for absolute metrics only: 0.6190476190476191\n",
            "Accuracy for metrics delta only: 0.5714285714285714\n",
            "Accuracy for all metrics: 0.5714285714285714\n"
          ]
        }
      ],
      "source": [
        "### Absolute metrics only ###\n",
        "XGB_model_glove.fit(glove_X_train_abs, glove_y_train_abs)\n",
        "XGB_y_pred_glove_abs = XGB_model_glove.predict(glove_X_test_abs)\n",
        "print(f\"Accuracy for absolute metrics only: {accuracy_score(glove_y_test_abs.values, XGB_y_pred_glove_abs)}\")\n",
        "\n",
        "### Metrics delta only ###\n",
        "XGB_model_glove_delta.fit(glove_X_train_delta, glove_y_train_delta)\n",
        "XGB_y_pred_glove_delta = XGB_model_glove_delta.predict(glove_X_test_delta)\n",
        "print(f\"Accuracy for metrics delta only: {accuracy_score(glove_y_test_delta.values, XGB_y_pred_glove_delta)}\")\n",
        "\n",
        "### All metrics ###\n",
        "XGB_model_glove_all.fit(glove_X_train_all, glove_y_train_all)\n",
        "XGB_y_pred_glove_all = XGB_model_glove_all.predict(glove_X_test_all)\n",
        "print(f\"Accuracy for all metrics: {accuracy_score(glove_y_test_all.values, XGB_y_pred_glove_all)}\")"
      ]
    },
    {
      "attachments": {},
      "cell_type": "markdown",
      "metadata": {
        "id": "nk4ei8k94S5z"
      },
      "source": [
        "# In this section, we will try the Doc2Vec embedding model."
      ]
    },
    {
      "attachments": {},
      "cell_type": "markdown",
      "metadata": {
        "id": "Z0i5W8Sc4eGo"
      },
      "source": [
        "It can be a good choice if the meaning of the statement is derived from the sequence of words or the overall context rather than the presence of individual words."
      ]
    },
    {
      "cell_type": "code",
      "execution_count": 5,
      "metadata": {
        "id": "ww-ph0we4dgg"
      },
      "outputs": [],
      "source": [
        "import gensim\n",
        "from gensim.models.doc2vec import Doc2Vec, TaggedDocument"
      ]
    },
    {
      "cell_type": "code",
      "execution_count": 6,
      "metadata": {
        "id": "_zNFzGJa63py"
      },
      "outputs": [],
      "source": [
        "### Initialize only for absolute metrics ###\n",
        "DT_model_D2V_abs = make_pipeline(StandardScaler(), DecisionTreeClassifier(random_state=3407))\n",
        "RF_model_D2V_abs = make_pipeline(StandardScaler(), RandomForestClassifier(random_state=3407))\n",
        "XGB_model_D2V_abs = make_pipeline(StandardScaler(), xgb.XGBClassifier(objective='binary:logistic', random_state=3407))\n",
        "\n",
        "### Initialize only for metrics delta ###\n",
        "DT_model_D2V_delta = make_pipeline(StandardScaler(), DecisionTreeClassifier(random_state=3407))\n",
        "RF_model_D2V_delta = make_pipeline(StandardScaler(), RandomForestClassifier(random_state=3407))\n",
        "XGB_model_D2V_delta = make_pipeline(StandardScaler(), xgb.XGBClassifier(objective='binary:logistic', random_state=3407))\n",
        "\n",
        "### Initialize only for all metrics ###\n",
        "DT_model_D2V_all = make_pipeline(StandardScaler(), DecisionTreeClassifier(random_state=3407))\n",
        "RF_model_D2V_all = make_pipeline(StandardScaler(), RandomForestClassifier(random_state=3407))\n",
        "XGB_model_D2V_all = make_pipeline(StandardScaler(), xgb.XGBClassifier(objective='binary:logistic', random_state=3407))"
      ]
    },
    {
      "cell_type": "code",
      "execution_count": 9,
      "metadata": {
        "id": "j6VlK_1543aS"
      },
      "outputs": [],
      "source": [
        "### Represent each document as a TaggedDocument object\n",
        "tagged_documents = [TaggedDocument(words=word_tokenize(_d.lower()), tags=[str(i)]) for i, _d in enumerate(combined_df['Statement'])] "
      ]
    },
    {
      "cell_type": "code",
      "execution_count": 10,
      "metadata": {
        "id": "agpsLHJS5END"
      },
      "outputs": [],
      "source": [
        "### Train a Doc2Vec model on the Tagged docmuments ###\n",
        "D2V_model = Doc2Vec(tagged_documents, vector_size=100, window=2, min_count=1, workers=4)"
      ]
    },
    {
      "cell_type": "code",
      "execution_count": 11,
      "metadata": {
        "id": "LI67SdTF5X29"
      },
      "outputs": [],
      "source": [
        "### Transform each document into a vector using the trained D2V_model ###\n",
        "combined_df_D2V = combined_df.copy() \n",
        "combined_df_D2V['doc_vector'] = combined_df_D2V['Statement'].apply(lambda x: D2V_model.infer_vector(word_tokenize(x.lower())))\n",
        "\n",
        "D2V_temp = np.array(combined_df_D2V['doc_vector'].to_list())"
      ]
    },
    {
      "cell_type": "code",
      "execution_count": 12,
      "metadata": {
        "id": "3UZUxW-hxAjm"
      },
      "outputs": [],
      "source": [
        "### With absolute metrics only ###\n",
        "D2V_X_abs = np.concatenate((D2V_temp, x_metrics.values), axis=1) #Concate the converted text data with the metrics data\n",
        "D2V_X_train_abs, D2V_X_test_abs, D2V_y_train_abs, DV2_y_test_abs = train_test_split(D2V_X_abs, y_labels, test_size=0.2, random_state=3407) #Split the data into a training set and a test set\n",
        "\n",
        "### With metrics delta only ###\n",
        "D2V_X_delta = np.concatenate((D2V_temp, x_metrics_delta.values), axis=1) #Concate the converted text data with the metrics data\n",
        "D2V_X_train_delta, D2V_X_test_delta, D2V_y_train_delta, DV2_y_test_delta = train_test_split(D2V_X_delta, y_labels, test_size=0.2, random_state=3407) #Split the data into a training set and a test set\n",
        "\n",
        "### With all metrics ###\n",
        "D2V_X_all = np.concatenate((D2V_temp, x_metrics_all.values), axis=1) #Concate the converted text data with the metrics data\n",
        "D2V_X_train_all, D2V_X_test_all, D2V_y_train_all, DV2_y_test_all = train_test_split(D2V_X_all, y_labels, test_size=0.2, random_state=3407) #Split the data into a training set and a test set"
      ]
    },
    {
      "cell_type": "code",
      "execution_count": 13,
      "metadata": {
        "colab": {
          "base_uri": "https://localhost:8080/"
        },
        "id": "kHGZpqXmBlMe",
        "outputId": "67129523-c7be-4565-fa20-f0ebaa5534e8"
      },
      "outputs": [
        {
          "name": "stdout",
          "output_type": "stream",
          "text": [
            "There are 104 features in the train dataset for absolute metrics only.\n",
            "There are 104 features in the train dataset for metrics delta only.\n",
            "There are 108 features in the train dataset for all metrics.\n"
          ]
        }
      ],
      "source": [
        "### Understanding the features ###\n",
        "print(f\"There are {len(D2V_X_train_abs[0])} features in the train dataset for absolute metrics only.\")\n",
        "print(f\"There are {len(D2V_X_train_delta[0])} features in the train dataset for metrics delta only.\")\n",
        "print(f\"There are {len(D2V_X_train_all[0])} features in the train dataset for all metrics.\")"
      ]
    },
    {
      "attachments": {},
      "cell_type": "markdown",
      "metadata": {
        "id": "KDjN5H4a6aid"
      },
      "source": [
        "\n",
        "**Using the Decision Tree model**"
      ]
    },
    {
      "cell_type": "code",
      "execution_count": 15,
      "metadata": {
        "colab": {
          "base_uri": "https://localhost:8080/"
        },
        "id": "UQ_0SIsr6YJI",
        "outputId": "4b7420bd-24ce-4956-ebaa-0ce1b3bc9809"
      },
      "outputs": [
        {
          "name": "stdout",
          "output_type": "stream",
          "text": [
            "Accuracy for absolute metrics only: 0.6428571428571429\n",
            "Accuracy for metrics delta only: 0.5476190476190477\n",
            "Accuracy for all metrics: 0.5476190476190477\n"
          ]
        }
      ],
      "source": [
        "### Absolute metrics only ###\n",
        "DT_model_D2V_abs.fit(D2V_X_train_abs, D2V_y_train_abs)\n",
        "DT_y_pred_D2V_abs = DT_model_D2V_abs.predict(D2V_X_test_abs)\n",
        "print(f\"Accuracy for absolute metrics only: {accuracy_score(DV2_y_test_abs, DT_y_pred_D2V_abs)}\")\n",
        "\n",
        "### Metrics delta only ###\n",
        "DT_model_D2V_delta.fit(D2V_X_train_delta, D2V_y_train_delta)\n",
        "DT_y_pred_D2V_delta = DT_model_D2V_delta.predict(D2V_X_test_delta)\n",
        "print(f\"Accuracy for metrics delta only: {accuracy_score(DV2_y_test_delta, DT_y_pred_D2V_delta)}\")\n",
        "\n",
        "### All metrics ###\n",
        "DT_model_D2V_all.fit(D2V_X_train_all, D2V_y_train_all)\n",
        "DT_y_pred_D2V_all = DT_model_D2V_all.predict(D2V_X_test_all)\n",
        "print(f\"Accuracy for all metrics: {accuracy_score(DV2_y_test_all, DT_y_pred_D2V_all)}\")"
      ]
    },
    {
      "attachments": {},
      "cell_type": "markdown",
      "metadata": {
        "id": "ZRtN6Ik66p_5"
      },
      "source": [
        "**Using the Random Forest model**"
      ]
    },
    {
      "cell_type": "code",
      "execution_count": 16,
      "metadata": {
        "colab": {
          "base_uri": "https://localhost:8080/"
        },
        "id": "UwUpFkrN6nPq",
        "outputId": "0823407b-b334-4f98-a92e-9991747330e8"
      },
      "outputs": [
        {
          "name": "stdout",
          "output_type": "stream",
          "text": [
            "Accuracy for absolute metrics only: 0.5714285714285714\n",
            "Accuracy for metrics delta only: 0.5952380952380952\n",
            "Accuracy for all metrics: 0.5952380952380952\n"
          ]
        }
      ],
      "source": [
        "### Absolute metrics only ###\n",
        "RF_model_D2V_abs.fit(D2V_X_train_abs, D2V_y_train_abs)\n",
        "DT_y_pred_D2V_abs = RF_model_D2V_abs.predict(D2V_X_test_abs)\n",
        "print(f\"Accuracy for absolute metrics only: {accuracy_score(DV2_y_test_abs, DT_y_pred_D2V_abs)}\")\n",
        "\n",
        "### Metrics delta only ###\n",
        "RF_model_D2V_delta.fit(D2V_X_train_delta, D2V_y_train_delta)\n",
        "RF_y_pred_D2V_delta = RF_model_D2V_delta.predict(D2V_X_test_delta)\n",
        "print(f\"Accuracy for metrics delta only: {accuracy_score(DV2_y_test_delta, RF_y_pred_D2V_delta)}\")\n",
        "\n",
        "### All metrics ###\n",
        "RF_model_D2V_all.fit(D2V_X_train_all, D2V_y_train_all)\n",
        "RF_y_pred_D2V_all = RF_model_D2V_all.predict(D2V_X_test_all)\n",
        "print(f\"Accuracy for all metrics: {accuracy_score(DV2_y_test_all, RF_y_pred_D2V_all)}\")"
      ]
    },
    {
      "attachments": {},
      "cell_type": "markdown",
      "metadata": {
        "id": "RuXwJ-DN64Ns"
      },
      "source": [
        "**Using the XGBoost model**"
      ]
    },
    {
      "cell_type": "code",
      "execution_count": 17,
      "metadata": {
        "colab": {
          "base_uri": "https://localhost:8080/"
        },
        "id": "jqOmi3RP60Ew",
        "outputId": "92d760ad-3f32-4b24-d38b-72f18b00bf29"
      },
      "outputs": [
        {
          "name": "stdout",
          "output_type": "stream",
          "text": [
            "Accuracy for absolute metrics only: 0.5952380952380952\n",
            "Accuracy for metrics delta only: 0.6190476190476191\n",
            "Accuracy for all metrics: 0.5952380952380952\n"
          ]
        }
      ],
      "source": [
        "### Absolute metrics only ###\n",
        "XGB_model_D2V_abs.fit(D2V_X_train_abs, D2V_y_train_abs)\n",
        "XGB_y_pred_D2V_abs = XGB_model_D2V_abs.predict(D2V_X_test_abs)\n",
        "print(f\"Accuracy for absolute metrics only: {accuracy_score(DV2_y_test_abs, XGB_y_pred_D2V_abs)}\")\n",
        "\n",
        "### Metrics delta only ###\n",
        "XGB_model_D2V_delta.fit(D2V_X_train_delta, D2V_y_train_delta)\n",
        "XGB_y_pred_D2V_delta = XGB_model_D2V_delta.predict(D2V_X_test_delta)\n",
        "print(f\"Accuracy for metrics delta only: {accuracy_score(DV2_y_test_delta, XGB_y_pred_D2V_delta)}\")\n",
        "\n",
        "### All metrics ###\n",
        "XGB_model_D2V_all.fit(D2V_X_train_all, D2V_y_train_all)\n",
        "XGB_y_pred_D2V_all = XGB_model_D2V_all.predict(D2V_X_test_all)\n",
        "print(f\"Accuracy for all metrics: {accuracy_score(DV2_y_test_all, XGB_y_pred_D2V_all)}\")"
      ]
    },
    {
      "attachments": {},
      "cell_type": "markdown",
      "metadata": {
        "id": "1x3mcWwn8dYw"
      },
      "source": [
        "# We will try using a pre-trained BERT model to extract features from the text data"
      ]
    },
    {
      "cell_type": "code",
      "execution_count": null,
      "metadata": {
        "colab": {
          "base_uri": "https://localhost:8080/"
        },
        "id": "qhdkSDhVieGW",
        "outputId": "0ff3715f-d253-4878-aa48-083df694f3bb"
      },
      "outputs": [
        {
          "name": "stdout",
          "output_type": "stream",
          "text": [
            "Looking in indexes: https://pypi.org/simple, https://us-python.pkg.dev/colab-wheels/public/simple/\n",
            "Collecting transformers\n",
            "  Downloading transformers-4.29.2-py3-none-any.whl (7.1 MB)\n",
            "\u001b[2K     \u001b[90m━━━━━━━━━━━━━━━━━━━━━━━━━━━━━━━━━━━━━━━━\u001b[0m \u001b[32m7.1/7.1 MB\u001b[0m \u001b[31m109.5 MB/s\u001b[0m eta \u001b[36m0:00:00\u001b[0m\n",
            "\u001b[?25hRequirement already satisfied: filelock in /usr/local/lib/python3.10/dist-packages (from transformers) (3.12.0)\n",
            "Collecting huggingface-hub<1.0,>=0.14.1 (from transformers)\n",
            "  Downloading huggingface_hub-0.15.1-py3-none-any.whl (236 kB)\n",
            "\u001b[2K     \u001b[90m━━━━━━━━━━━━━━━━━━━━━━━━━━━━━━━━━━━━━━\u001b[0m \u001b[32m236.8/236.8 kB\u001b[0m \u001b[31m31.1 MB/s\u001b[0m eta \u001b[36m0:00:00\u001b[0m\n",
            "\u001b[?25hRequirement already satisfied: numpy>=1.17 in /usr/local/lib/python3.10/dist-packages (from transformers) (1.22.4)\n",
            "Requirement already satisfied: packaging>=20.0 in /usr/local/lib/python3.10/dist-packages (from transformers) (23.1)\n",
            "Requirement already satisfied: pyyaml>=5.1 in /usr/local/lib/python3.10/dist-packages (from transformers) (6.0)\n",
            "Requirement already satisfied: regex!=2019.12.17 in /usr/local/lib/python3.10/dist-packages (from transformers) (2022.10.31)\n",
            "Requirement already satisfied: requests in /usr/local/lib/python3.10/dist-packages (from transformers) (2.27.1)\n",
            "Collecting tokenizers!=0.11.3,<0.14,>=0.11.1 (from transformers)\n",
            "  Downloading tokenizers-0.13.3-cp310-cp310-manylinux_2_17_x86_64.manylinux2014_x86_64.whl (7.8 MB)\n",
            "\u001b[2K     \u001b[90m━━━━━━━━━━━━━━━━━━━━━━━━━━━━━━━━━━━━━━━━\u001b[0m \u001b[32m7.8/7.8 MB\u001b[0m \u001b[31m119.9 MB/s\u001b[0m eta \u001b[36m0:00:00\u001b[0m\n",
            "\u001b[?25hRequirement already satisfied: tqdm>=4.27 in /usr/local/lib/python3.10/dist-packages (from transformers) (4.65.0)\n",
            "Requirement already satisfied: fsspec in /usr/local/lib/python3.10/dist-packages (from huggingface-hub<1.0,>=0.14.1->transformers) (2023.4.0)\n",
            "Requirement already satisfied: typing-extensions>=3.7.4.3 in /usr/local/lib/python3.10/dist-packages (from huggingface-hub<1.0,>=0.14.1->transformers) (4.5.0)\n",
            "Requirement already satisfied: urllib3<1.27,>=1.21.1 in /usr/local/lib/python3.10/dist-packages (from requests->transformers) (1.26.15)\n",
            "Requirement already satisfied: certifi>=2017.4.17 in /usr/local/lib/python3.10/dist-packages (from requests->transformers) (2022.12.7)\n",
            "Requirement already satisfied: charset-normalizer~=2.0.0 in /usr/local/lib/python3.10/dist-packages (from requests->transformers) (2.0.12)\n",
            "Requirement already satisfied: idna<4,>=2.5 in /usr/local/lib/python3.10/dist-packages (from requests->transformers) (3.4)\n",
            "Installing collected packages: tokenizers, huggingface-hub, transformers\n",
            "Successfully installed huggingface-hub-0.15.1 tokenizers-0.13.3 transformers-4.29.2\n"
          ]
        }
      ],
      "source": [
        "!pip install transformers"
      ]
    },
    {
      "cell_type": "code",
      "execution_count": null,
      "metadata": {
        "id": "Hlpd1zul9BfI"
      },
      "outputs": [],
      "source": [
        "from transformers import pipeline, AutoTokenizer\n",
        "from sklearn.model_selection import train_test_split\n",
        "from sklearn.preprocessing import StandardScaler\n",
        "from sklearn.tree import DecisionTreeClassifier\n",
        "from sklearn.metrics import accuracy_score"
      ]
    },
    {
      "cell_type": "code",
      "execution_count": null,
      "metadata": {
        "colab": {
          "base_uri": "https://localhost:8080/",
          "height": 289,
          "referenced_widgets": [
            "8c4efe8d2a7140408e3701406f6d7b6e",
            "b985e2e75e804f4ab3c4d45b91b2d260",
            "66804030705e4b28bcc9b48a6c12a417",
            "a5a4a6b6406e4ca0ad77e3b4b1a953d5",
            "780da8f54f204eb08a8db71c4fe0850c",
            "a587488c8ce54ec5a56f5025693e7bed",
            "cdc135d9b0284dc5ac03ca544b17f848",
            "81dd20107d5e479ba5ae3105b30acb5c",
            "bb7fc4aca479408782d2d777332fc43e",
            "2c1ee70ed65140509759240a88d7c88d",
            "b88992bde8194917a50307c7c621cc2d",
            "66da92c0bbd44e88a75fd3523d31575e",
            "f6613c718a0d44328bceec368ea726cd",
            "3a1e92dde70a42c8be6697d666ef18cf",
            "83c820f2b5114060b47be334f220522c",
            "b0fc9965af884771b8b150e60d918cdb",
            "22440d616bbd4bd7a486f71fc1712f8d",
            "d00d161b83a940138f10ee634d07bc4e",
            "0fba0c117df94c3e9d2442b8f2333393",
            "627489a8d88544e7af33725129d31616",
            "60762bba5d0449eb849e5d5cff318560",
            "d0b922f078c1418a9900e36348109a5a",
            "19e0cd9fc6df4f669ffeb040fa8fd816",
            "28660b74de14409d8a395c9b4cf0a784",
            "da66813f41d0411bb24b2d5b8c6fb544",
            "ac5f76204db94ae1886885590c02e230",
            "b5d70a373ce843ea94b0ac169b6ff10c",
            "3d4bd774cd6d4fd89bc7cba7f4be388b",
            "8ee6862c73bf48c9bbf391cc5bd5f22e",
            "a7a0c2a7a897450ea28276cd34cba90b",
            "b498680fa4504fc68931f1f2e99e1947",
            "7f08c51ba51645cc8f08b5790de80579",
            "570735e64e7444968189c43fd64d1218",
            "03c6bbafe3424a8bba00e5e6800c161e",
            "f40d0db17f0e4062a2bb8efe13112148",
            "d3d83321dd70417ca966a0a1a959bb2f",
            "55f3c3c52139483aa59f9409cc8ef748",
            "95ec8d6bf2164bc4a1b54b202ec4c931",
            "963ec8ffa93b4174b83204790f48f567",
            "44186cc92eed45ab93f70de11f7af5de",
            "0dab9610a7894056b6f5820f9ad18678",
            "3fff1fb8f53e4bedae65e869a41370a2",
            "f832b490b3984fc7b2b96667984afa5d",
            "2a20099c1d4f46f8afbf8eb239fed9a6",
            "b466aa9c18304022900a13b05b4bdb21",
            "78b1483352a249239f5466c130edd290",
            "14c809e46f4546f0bff3328064605be5",
            "7dc370d5a4524fffbb52e6d7e719a763",
            "0fbe10db52784c1ba50c64e3402bf29b",
            "56d094295d574ab3905f70a8a046cb9a",
            "dfbf201cf8bd4a93a115965117477a8b",
            "634c6f2b1a584a21a9e7e53b33e3a2bc",
            "88cac2c40e5342149ef295f07fdbf728",
            "ac4bb3bf33444ada81e0c2ae0ce57ed7",
            "fa06f5689d0a4f1e83d6b19ddedf122d"
          ]
        },
        "id": "nmWZnDaHirk5",
        "outputId": "f5e215a4-6503-47a6-c796-558d8a4ae412"
      },
      "outputs": [
        {
          "data": {
            "application/vnd.jupyter.widget-view+json": {
              "model_id": "8c4efe8d2a7140408e3701406f6d7b6e",
              "version_major": 2,
              "version_minor": 0
            },
            "text/plain": [
              "Downloading (…)lve/main/config.json:   0%|          | 0.00/570 [00:00<?, ?B/s]"
            ]
          },
          "metadata": {},
          "output_type": "display_data"
        },
        {
          "data": {
            "application/vnd.jupyter.widget-view+json": {
              "model_id": "66da92c0bbd44e88a75fd3523d31575e",
              "version_major": 2,
              "version_minor": 0
            },
            "text/plain": [
              "Downloading pytorch_model.bin:   0%|          | 0.00/440M [00:00<?, ?B/s]"
            ]
          },
          "metadata": {},
          "output_type": "display_data"
        },
        {
          "name": "stderr",
          "output_type": "stream",
          "text": [
            "Some weights of the model checkpoint at bert-base-uncased were not used when initializing BertModel: ['cls.predictions.transform.dense.bias', 'cls.predictions.transform.LayerNorm.weight', 'cls.seq_relationship.bias', 'cls.predictions.transform.dense.weight', 'cls.predictions.transform.LayerNorm.bias', 'cls.predictions.bias', 'cls.predictions.decoder.weight', 'cls.seq_relationship.weight']\n",
            "- This IS expected if you are initializing BertModel from the checkpoint of a model trained on another task or with another architecture (e.g. initializing a BertForSequenceClassification model from a BertForPreTraining model).\n",
            "- This IS NOT expected if you are initializing BertModel from the checkpoint of a model that you expect to be exactly identical (initializing a BertForSequenceClassification model from a BertForSequenceClassification model).\n"
          ]
        },
        {
          "data": {
            "application/vnd.jupyter.widget-view+json": {
              "model_id": "19e0cd9fc6df4f669ffeb040fa8fd816",
              "version_major": 2,
              "version_minor": 0
            },
            "text/plain": [
              "Downloading (…)okenizer_config.json:   0%|          | 0.00/28.0 [00:00<?, ?B/s]"
            ]
          },
          "metadata": {},
          "output_type": "display_data"
        },
        {
          "data": {
            "application/vnd.jupyter.widget-view+json": {
              "model_id": "03c6bbafe3424a8bba00e5e6800c161e",
              "version_major": 2,
              "version_minor": 0
            },
            "text/plain": [
              "Downloading (…)solve/main/vocab.txt:   0%|          | 0.00/232k [00:00<?, ?B/s]"
            ]
          },
          "metadata": {},
          "output_type": "display_data"
        },
        {
          "data": {
            "application/vnd.jupyter.widget-view+json": {
              "model_id": "b466aa9c18304022900a13b05b4bdb21",
              "version_major": 2,
              "version_minor": 0
            },
            "text/plain": [
              "Downloading (…)/main/tokenizer.json:   0%|          | 0.00/466k [00:00<?, ?B/s]"
            ]
          },
          "metadata": {},
          "output_type": "display_data"
        },
        {
          "name": "stderr",
          "output_type": "stream",
          "text": [
            "/usr/local/lib/python3.10/dist-packages/transformers/pipelines/base.py:1080: UserWarning: You seem to be using the pipelines sequentially on GPU. In order to maximize efficiency please use a dataset\n",
            "  warnings.warn(\n"
          ]
        }
      ],
      "source": [
        "X_text_BERT = combined_df['Statement'].values #Get the text data into a np array\n",
        "X_quant_BERT = combined_df[['Fed_fund_rate', 'Unemployment_rate', 'Core_CPI', 'US_10-2_Spread']].values #Get the numeric data into a np array\n",
        "\n",
        "### Initiate a transformer model for feature extraction\n",
        "feature_extraction = pipeline('feature-extraction', model='bert-base-uncased', tokenizer='bert-base-uncased', device=0, truncation=True, max_length=512) # device=0 to run on GPU\n",
        "X_text_BERT_embeddings = np.array([np.mean(feature_extraction(text), axis=1)[0] for text in X_text_BERT])"
      ]
    },
    {
      "cell_type": "code",
      "execution_count": null,
      "metadata": {
        "id": "qSFFbY6ljSIU"
      },
      "outputs": [],
      "source": [
        "# Combine the text embedding with the metrics data #\n",
        "X_BERT = np.concatenate((X_text_BERT_embeddings, X_quant_BERT), axis=1)\n",
        "y_BERT = combined_df['Label'].values\n",
        "\n",
        "### Split the data into training and test set ###\n",
        "X_train_BERT, X_test_BERT, y_train_BERT, y_test_BERT = train_test_split(X_BERT, y_BERT, test_size=0.2, random_state=3407)"
      ]
    },
    {
      "cell_type": "code",
      "execution_count": null,
      "metadata": {
        "colab": {
          "base_uri": "https://localhost:8080/"
        },
        "id": "6fwWRRzLADd3",
        "outputId": "a4063d29-cf49-4ad7-841f-4346161933d1"
      },
      "outputs": [
        {
          "name": "stdout",
          "output_type": "stream",
          "text": [
            "There are 772 features in the train dataset.\n"
          ]
        }
      ],
      "source": [
        "### Understanding the features ###\n",
        "print(f\"There are {len(X_train_BERT[0])} features in the train dataset.\")"
      ]
    },
    {
      "cell_type": "code",
      "execution_count": null,
      "metadata": {
        "id": "fLAW6igjnKsv"
      },
      "outputs": [],
      "source": [
        "DT_model_BERT = make_pipeline(StandardScaler(), DecisionTreeClassifier(random_state=3407))\n",
        "RF_model_BERT = make_pipeline(StandardScaler(), RandomForestClassifier(random_state=3407))\n",
        "XGB_model_BERT = make_pipeline(StandardScaler(), xgb.XGBClassifier(objective='binary:logistic', random_state=3407))"
      ]
    },
    {
      "attachments": {},
      "cell_type": "markdown",
      "metadata": {
        "id": "vD_N8o89nYL_"
      },
      "source": [
        "**Using the Decision Tree model**"
      ]
    },
    {
      "cell_type": "code",
      "execution_count": null,
      "metadata": {
        "colab": {
          "base_uri": "https://localhost:8080/"
        },
        "id": "FomHnGMFndjo",
        "outputId": "e805e0dd-a4b6-4ab6-d2e7-2a426f998212"
      },
      "outputs": [
        {
          "name": "stdout",
          "output_type": "stream",
          "text": [
            "Accuracy: 0.5\n"
          ]
        }
      ],
      "source": [
        "DT_model_BERT.fit(X_train_BERT, y_train_BERT)\n",
        "DT_y_pred_BERT = DT_model_BERT.predict(X_test_BERT)\n",
        "print(f\"Accuracy: {accuracy_score(y_test_BERT, DT_y_pred_BERT)}\")"
      ]
    },
    {
      "attachments": {},
      "cell_type": "markdown",
      "metadata": {
        "id": "bq4SkOHfnuF7"
      },
      "source": [
        "**Using the Random Forest model**"
      ]
    },
    {
      "cell_type": "code",
      "execution_count": null,
      "metadata": {
        "colab": {
          "base_uri": "https://localhost:8080/"
        },
        "id": "viA4EuwgnycO",
        "outputId": "b8ad431a-0a99-4dd7-c3d3-755a2b628527"
      },
      "outputs": [
        {
          "name": "stdout",
          "output_type": "stream",
          "text": [
            "Accuracy: 0.5714285714285714\n"
          ]
        }
      ],
      "source": [
        "RF_model_BERT.fit(X_train_BERT, y_train_BERT)\n",
        "RF_y_pred_BERT = RF_model_BERT.predict(X_test_BERT)\n",
        "print(f\"Accuracy: {accuracy_score(y_test_BERT, RF_y_pred_BERT)}\")"
      ]
    },
    {
      "attachments": {},
      "cell_type": "markdown",
      "metadata": {
        "id": "RoPk6sSeoJPy"
      },
      "source": [
        "**Using the XGBoost model**"
      ]
    },
    {
      "cell_type": "code",
      "execution_count": null,
      "metadata": {
        "colab": {
          "base_uri": "https://localhost:8080/"
        },
        "id": "EBAh3ZtAoMHK",
        "outputId": "4b5da9f7-1625-42e7-c605-06325cec877f"
      },
      "outputs": [
        {
          "name": "stdout",
          "output_type": "stream",
          "text": [
            "Accuracy: 0.5476190476190477\n"
          ]
        }
      ],
      "source": [
        "XGB_model_BERT.fit(X_train_BERT, y_train_BERT)\n",
        "XGB_y_pred_BERT = XGB_model_BERT.predict(X_test_BERT)\n",
        "print(f\"Accuracy: {accuracy_score(y_test_BERT, XGB_y_pred_BERT)}\")"
      ]
    },
    {
      "attachments": {},
      "cell_type": "markdown",
      "metadata": {
        "id": "Lic0DpompSRB"
      },
      "source": [
        "# We will now use the text embedding from OpenAI"
      ]
    },
    {
      "cell_type": "code",
      "execution_count": null,
      "metadata": {
        "id": "7-T5zCH25sxq"
      },
      "outputs": [],
      "source": [
        "!pip install openai"
      ]
    },
    {
      "cell_type": "code",
      "execution_count": null,
      "metadata": {
        "id": "l_eqXCzP51jA"
      },
      "outputs": [],
      "source": [
        "import openai \n",
        "import os"
      ]
    },
    {
      "cell_type": "code",
      "execution_count": null,
      "metadata": {
        "id": "TKUp5Iqx5tX_"
      },
      "outputs": [],
      "source": [
        "os.environ['OPENAI_API_KEY'] = \"KEY\"\n",
        "openai.api_key = \"KEY\"\n",
        "\n",
        "def get_embedding(text, model=\"text-embedding-ada-002\"):\n",
        "   text = text.replace(\"\\n\", \" \")\n",
        "   return openai.Embedding.create(input = [text], model=model)['data'][0]['embedding']"
      ]
    },
    {
      "cell_type": "code",
      "execution_count": null,
      "metadata": {
        "id": "iutSrjNp7v4p"
      },
      "outputs": [],
      "source": [
        "fomc_statements_GPT = fomc_statements.copy()"
      ]
    },
    {
      "cell_type": "code",
      "execution_count": null,
      "metadata": {
        "colab": {
          "base_uri": "https://localhost:8080/",
          "height": 206
        },
        "id": "SqqKKdcv7NkY",
        "outputId": "7e692f2f-36ee-47d5-e132-c991cdcd2cee"
      },
      "outputs": [
        {
          "data": {
            "text/html": [
              "\n",
              "  <div id=\"df-4ebe39b9-99ea-4f1a-bef7-ea74f6c5ef57\">\n",
              "    <div class=\"colab-df-container\">\n",
              "      <div>\n",
              "<style scoped>\n",
              "    .dataframe tbody tr th:only-of-type {\n",
              "        vertical-align: middle;\n",
              "    }\n",
              "\n",
              "    .dataframe tbody tr th {\n",
              "        vertical-align: top;\n",
              "    }\n",
              "\n",
              "    .dataframe thead th {\n",
              "        text-align: right;\n",
              "    }\n",
              "</style>\n",
              "<table border=\"1\" class=\"dataframe\">\n",
              "  <thead>\n",
              "    <tr style=\"text-align: right;\">\n",
              "      <th></th>\n",
              "      <th>Meeting_Date</th>\n",
              "      <th>Statement</th>\n",
              "    </tr>\n",
              "  </thead>\n",
              "  <tbody>\n",
              "    <tr>\n",
              "      <th>0</th>\n",
              "      <td>1997-03-25</td>\n",
              "      <td>_x000D_\\n_x000D_\\n\\tThe Federal Open Market Co...</td>\n",
              "    </tr>\n",
              "    <tr>\n",
              "      <th>1</th>\n",
              "      <td>1998-09-29</td>\n",
              "      <td>_x000D_\\nThe Federal Open Market Committee dec...</td>\n",
              "    </tr>\n",
              "    <tr>\n",
              "      <th>2</th>\n",
              "      <td>1998-10-15</td>\n",
              "      <td>_x000D_\\nThe Federal Reserve today announced t...</td>\n",
              "    </tr>\n",
              "    <tr>\n",
              "      <th>3</th>\n",
              "      <td>1998-11-17</td>\n",
              "      <td>_x000D_\\nThe Federal Reserve today announced t...</td>\n",
              "    </tr>\n",
              "    <tr>\n",
              "      <th>4</th>\n",
              "      <td>1999-05-18</td>\n",
              "      <td>_x000D_\\nThe Federal Reserve released the foll...</td>\n",
              "    </tr>\n",
              "  </tbody>\n",
              "</table>\n",
              "</div>\n",
              "      <button class=\"colab-df-convert\" onclick=\"convertToInteractive('df-4ebe39b9-99ea-4f1a-bef7-ea74f6c5ef57')\"\n",
              "              title=\"Convert this dataframe to an interactive table.\"\n",
              "              style=\"display:none;\">\n",
              "        \n",
              "  <svg xmlns=\"http://www.w3.org/2000/svg\" height=\"24px\"viewBox=\"0 0 24 24\"\n",
              "       width=\"24px\">\n",
              "    <path d=\"M0 0h24v24H0V0z\" fill=\"none\"/>\n",
              "    <path d=\"M18.56 5.44l.94 2.06.94-2.06 2.06-.94-2.06-.94-.94-2.06-.94 2.06-2.06.94zm-11 1L8.5 8.5l.94-2.06 2.06-.94-2.06-.94L8.5 2.5l-.94 2.06-2.06.94zm10 10l.94 2.06.94-2.06 2.06-.94-2.06-.94-.94-2.06-.94 2.06-2.06.94z\"/><path d=\"M17.41 7.96l-1.37-1.37c-.4-.4-.92-.59-1.43-.59-.52 0-1.04.2-1.43.59L10.3 9.45l-7.72 7.72c-.78.78-.78 2.05 0 2.83L4 21.41c.39.39.9.59 1.41.59.51 0 1.02-.2 1.41-.59l7.78-7.78 2.81-2.81c.8-.78.8-2.07 0-2.86zM5.41 20L4 18.59l7.72-7.72 1.47 1.35L5.41 20z\"/>\n",
              "  </svg>\n",
              "      </button>\n",
              "      \n",
              "  <style>\n",
              "    .colab-df-container {\n",
              "      display:flex;\n",
              "      flex-wrap:wrap;\n",
              "      gap: 12px;\n",
              "    }\n",
              "\n",
              "    .colab-df-convert {\n",
              "      background-color: #E8F0FE;\n",
              "      border: none;\n",
              "      border-radius: 50%;\n",
              "      cursor: pointer;\n",
              "      display: none;\n",
              "      fill: #1967D2;\n",
              "      height: 32px;\n",
              "      padding: 0 0 0 0;\n",
              "      width: 32px;\n",
              "    }\n",
              "\n",
              "    .colab-df-convert:hover {\n",
              "      background-color: #E2EBFA;\n",
              "      box-shadow: 0px 1px 2px rgba(60, 64, 67, 0.3), 0px 1px 3px 1px rgba(60, 64, 67, 0.15);\n",
              "      fill: #174EA6;\n",
              "    }\n",
              "\n",
              "    [theme=dark] .colab-df-convert {\n",
              "      background-color: #3B4455;\n",
              "      fill: #D2E3FC;\n",
              "    }\n",
              "\n",
              "    [theme=dark] .colab-df-convert:hover {\n",
              "      background-color: #434B5C;\n",
              "      box-shadow: 0px 1px 3px 1px rgba(0, 0, 0, 0.15);\n",
              "      filter: drop-shadow(0px 1px 2px rgba(0, 0, 0, 0.3));\n",
              "      fill: #FFFFFF;\n",
              "    }\n",
              "  </style>\n",
              "\n",
              "      <script>\n",
              "        const buttonEl =\n",
              "          document.querySelector('#df-4ebe39b9-99ea-4f1a-bef7-ea74f6c5ef57 button.colab-df-convert');\n",
              "        buttonEl.style.display =\n",
              "          google.colab.kernel.accessAllowed ? 'block' : 'none';\n",
              "\n",
              "        async function convertToInteractive(key) {\n",
              "          const element = document.querySelector('#df-4ebe39b9-99ea-4f1a-bef7-ea74f6c5ef57');\n",
              "          const dataTable =\n",
              "            await google.colab.kernel.invokeFunction('convertToInteractive',\n",
              "                                                     [key], {});\n",
              "          if (!dataTable) return;\n",
              "\n",
              "          const docLinkHtml = 'Like what you see? Visit the ' +\n",
              "            '<a target=\"_blank\" href=https://colab.research.google.com/notebooks/data_table.ipynb>data table notebook</a>'\n",
              "            + ' to learn more about interactive tables.';\n",
              "          element.innerHTML = '';\n",
              "          dataTable['output_type'] = 'display_data';\n",
              "          await google.colab.output.renderOutput(dataTable, element);\n",
              "          const docLink = document.createElement('div');\n",
              "          docLink.innerHTML = docLinkHtml;\n",
              "          element.appendChild(docLink);\n",
              "        }\n",
              "      </script>\n",
              "    </div>\n",
              "  </div>\n",
              "  "
            ],
            "text/plain": [
              "  Meeting_Date                                          Statement\n",
              "0   1997-03-25  _x000D_\\n_x000D_\\n\\tThe Federal Open Market Co...\n",
              "1   1998-09-29  _x000D_\\nThe Federal Open Market Committee dec...\n",
              "2   1998-10-15  _x000D_\\nThe Federal Reserve today announced t...\n",
              "3   1998-11-17  _x000D_\\nThe Federal Reserve today announced t...\n",
              "4   1999-05-18  _x000D_\\nThe Federal Reserve released the foll..."
            ]
          },
          "execution_count": 11,
          "metadata": {},
          "output_type": "execute_result"
        }
      ],
      "source": [
        "fomc_statements_GPT.head()"
      ]
    },
    {
      "cell_type": "code",
      "execution_count": null,
      "metadata": {
        "id": "TJmzWL0fpYf0"
      },
      "outputs": [],
      "source": [
        "fomc_statements_GPT['ada_embedding'] = fomc_statements_GPT.Statement.apply(lambda x: get_embedding(x, model='text-embedding-ada-002'))"
      ]
    },
    {
      "cell_type": "code",
      "execution_count": null,
      "metadata": {
        "id": "AfYnztD98vWS"
      },
      "outputs": [],
      "source": [
        "X_text_GPT = np.array(fomc_statements_GPT['ada_embedding'].to_list())\n",
        "X_quant_GPT = combined_df[['Fed_fund_rate', 'Unemployment_rate', 'Core_CPI', 'US_10-2_Spread']].values #Get the numeric data into a np array\n",
        "\n",
        "# Combine the text embedding with the metrics data #\n",
        "X_GPT = np.concatenate((X_text_GPT, X_quant_GPT), axis=1)\n",
        "y_GPT = combined_df['Label'].values\n",
        "\n",
        "### Split the data into training and test set ###\n",
        "X_train_GPT, X_test_GPT, y_train_GPT, y_test_GPT = train_test_split(X_GPT, y_GPT, test_size=0.2, random_state=42)"
      ]
    },
    {
      "cell_type": "code",
      "execution_count": null,
      "metadata": {
        "colab": {
          "base_uri": "https://localhost:8080/"
        },
        "id": "MolniA07_lxn",
        "outputId": "cef20904-2c1f-419f-b7ab-bdf575aff6a1"
      },
      "outputs": [
        {
          "name": "stdout",
          "output_type": "stream",
          "text": [
            "There are 1540 features in the train dataset.\n"
          ]
        }
      ],
      "source": [
        "### Understanding the features ###\n",
        "print(f\"There are {len(X_train_GPT[0])} features in the train dataset.\") #Seems like there are way too many parameters for the DTs to handle"
      ]
    },
    {
      "cell_type": "code",
      "execution_count": null,
      "metadata": {
        "id": "CIieEScB-hSB"
      },
      "outputs": [],
      "source": [
        "DT_model_GPT = make_pipeline(StandardScaler(), DecisionTreeClassifier(random_state=42))\n",
        "RF_model_GPT = make_pipeline(StandardScaler(), RandomForestClassifier(random_state=42))\n",
        "XGB_model_GPT = make_pipeline(StandardScaler(), xgb.XGBClassifier(objective='binary:logistic', random_state=42))"
      ]
    },
    {
      "attachments": {},
      "cell_type": "markdown",
      "metadata": {
        "id": "HfmE0dc--dED"
      },
      "source": [
        "**Using the Decision Tree model**"
      ]
    },
    {
      "cell_type": "code",
      "execution_count": null,
      "metadata": {
        "colab": {
          "base_uri": "https://localhost:8080/"
        },
        "id": "QSOtLBwc-Xwl",
        "outputId": "cba3e807-3841-43b1-89ea-6faee4ffc55d"
      },
      "outputs": [
        {
          "name": "stdout",
          "output_type": "stream",
          "text": [
            "Accuracy: 0.30952380952380953\n"
          ]
        }
      ],
      "source": [
        "DT_model_GPT.fit(X_train_GPT, y_train_GPT)\n",
        "DT_y_pred_GPT = DT_model_GPT.predict(X_test_GPT)\n",
        "print(f\"Accuracy: {accuracy_score(y_test_GPT, DT_y_pred_GPT)}\")"
      ]
    },
    {
      "attachments": {},
      "cell_type": "markdown",
      "metadata": {
        "id": "AEr7AJ3j-_fj"
      },
      "source": [
        "**Using the Random Forest model**"
      ]
    },
    {
      "cell_type": "code",
      "execution_count": null,
      "metadata": {
        "colab": {
          "base_uri": "https://localhost:8080/"
        },
        "id": "-vH9Jq5Y-97G",
        "outputId": "0d176f5b-7c93-417d-9736-b2fa09a15028"
      },
      "outputs": [
        {
          "name": "stdout",
          "output_type": "stream",
          "text": [
            "Accuracy: 0.5\n"
          ]
        }
      ],
      "source": [
        "RF_model_GPT.fit(X_train_GPT, y_train_GPT)\n",
        "RF_y_pred_GPT = RF_model_GPT.predict(X_test_GPT)\n",
        "print(f\"Accuracy: {accuracy_score(y_test_GPT, RF_y_pred_GPT)}\")"
      ]
    },
    {
      "attachments": {},
      "cell_type": "markdown",
      "metadata": {
        "id": "teo2-PGo_U1M"
      },
      "source": [
        "**Using the XGBoost model**"
      ]
    },
    {
      "cell_type": "code",
      "execution_count": null,
      "metadata": {
        "colab": {
          "base_uri": "https://localhost:8080/"
        },
        "id": "NH4KYgy__YBF",
        "outputId": "3080b34b-7138-4d70-a081-395765c8163d"
      },
      "outputs": [
        {
          "name": "stdout",
          "output_type": "stream",
          "text": [
            "Accuracy: 0.4523809523809524\n"
          ]
        }
      ],
      "source": [
        "XGB_model_GPT.fit(X_train_GPT, y_train_GPT)\n",
        "XGB_y_pred_GPT = XGB_model_GPT.predict(X_test_GPT)\n",
        "print(f\"Accuracy: {accuracy_score(y_test_GPT, XGB_y_pred_GPT)}\")"
      ]
    },
    {
      "attachments": {},
      "cell_type": "markdown",
      "metadata": {
        "id": "yNagKPpXE2JV"
      },
      "source": [
        "# We replicate all of the above but use delta values rather than absolute in the econometrics dataset"
      ]
    },
    {
      "cell_type": "code",
      "execution_count": null,
      "metadata": {
        "id": "X-OJKifRFMrg"
      },
      "outputs": [],
      "source": []
    }
  ],
  "metadata": {
    "colab": {
      "gpuType": "A100",
      "provenance": []
    },
    "kernelspec": {
      "display_name": "Python 3",
      "name": "python3"
    },
    "language_info": {
      "name": "python"
    },
    "widgets": {
      "application/vnd.jupyter.widget-state+json": {
        "03c6bbafe3424a8bba00e5e6800c161e": {
          "model_module": "@jupyter-widgets/controls",
          "model_module_version": "1.5.0",
          "model_name": "HBoxModel",
          "state": {
            "_dom_classes": [],
            "_model_module": "@jupyter-widgets/controls",
            "_model_module_version": "1.5.0",
            "_model_name": "HBoxModel",
            "_view_count": null,
            "_view_module": "@jupyter-widgets/controls",
            "_view_module_version": "1.5.0",
            "_view_name": "HBoxView",
            "box_style": "",
            "children": [
              "IPY_MODEL_f40d0db17f0e4062a2bb8efe13112148",
              "IPY_MODEL_d3d83321dd70417ca966a0a1a959bb2f",
              "IPY_MODEL_55f3c3c52139483aa59f9409cc8ef748"
            ],
            "layout": "IPY_MODEL_95ec8d6bf2164bc4a1b54b202ec4c931"
          }
        },
        "0dab9610a7894056b6f5820f9ad18678": {
          "model_module": "@jupyter-widgets/base",
          "model_module_version": "1.2.0",
          "model_name": "LayoutModel",
          "state": {
            "_model_module": "@jupyter-widgets/base",
            "_model_module_version": "1.2.0",
            "_model_name": "LayoutModel",
            "_view_count": null,
            "_view_module": "@jupyter-widgets/base",
            "_view_module_version": "1.2.0",
            "_view_name": "LayoutView",
            "align_content": null,
            "align_items": null,
            "align_self": null,
            "border": null,
            "bottom": null,
            "display": null,
            "flex": null,
            "flex_flow": null,
            "grid_area": null,
            "grid_auto_columns": null,
            "grid_auto_flow": null,
            "grid_auto_rows": null,
            "grid_column": null,
            "grid_gap": null,
            "grid_row": null,
            "grid_template_areas": null,
            "grid_template_columns": null,
            "grid_template_rows": null,
            "height": null,
            "justify_content": null,
            "justify_items": null,
            "left": null,
            "margin": null,
            "max_height": null,
            "max_width": null,
            "min_height": null,
            "min_width": null,
            "object_fit": null,
            "object_position": null,
            "order": null,
            "overflow": null,
            "overflow_x": null,
            "overflow_y": null,
            "padding": null,
            "right": null,
            "top": null,
            "visibility": null,
            "width": null
          }
        },
        "0fba0c117df94c3e9d2442b8f2333393": {
          "model_module": "@jupyter-widgets/base",
          "model_module_version": "1.2.0",
          "model_name": "LayoutModel",
          "state": {
            "_model_module": "@jupyter-widgets/base",
            "_model_module_version": "1.2.0",
            "_model_name": "LayoutModel",
            "_view_count": null,
            "_view_module": "@jupyter-widgets/base",
            "_view_module_version": "1.2.0",
            "_view_name": "LayoutView",
            "align_content": null,
            "align_items": null,
            "align_self": null,
            "border": null,
            "bottom": null,
            "display": null,
            "flex": null,
            "flex_flow": null,
            "grid_area": null,
            "grid_auto_columns": null,
            "grid_auto_flow": null,
            "grid_auto_rows": null,
            "grid_column": null,
            "grid_gap": null,
            "grid_row": null,
            "grid_template_areas": null,
            "grid_template_columns": null,
            "grid_template_rows": null,
            "height": null,
            "justify_content": null,
            "justify_items": null,
            "left": null,
            "margin": null,
            "max_height": null,
            "max_width": null,
            "min_height": null,
            "min_width": null,
            "object_fit": null,
            "object_position": null,
            "order": null,
            "overflow": null,
            "overflow_x": null,
            "overflow_y": null,
            "padding": null,
            "right": null,
            "top": null,
            "visibility": null,
            "width": null
          }
        },
        "0fbe10db52784c1ba50c64e3402bf29b": {
          "model_module": "@jupyter-widgets/base",
          "model_module_version": "1.2.0",
          "model_name": "LayoutModel",
          "state": {
            "_model_module": "@jupyter-widgets/base",
            "_model_module_version": "1.2.0",
            "_model_name": "LayoutModel",
            "_view_count": null,
            "_view_module": "@jupyter-widgets/base",
            "_view_module_version": "1.2.0",
            "_view_name": "LayoutView",
            "align_content": null,
            "align_items": null,
            "align_self": null,
            "border": null,
            "bottom": null,
            "display": null,
            "flex": null,
            "flex_flow": null,
            "grid_area": null,
            "grid_auto_columns": null,
            "grid_auto_flow": null,
            "grid_auto_rows": null,
            "grid_column": null,
            "grid_gap": null,
            "grid_row": null,
            "grid_template_areas": null,
            "grid_template_columns": null,
            "grid_template_rows": null,
            "height": null,
            "justify_content": null,
            "justify_items": null,
            "left": null,
            "margin": null,
            "max_height": null,
            "max_width": null,
            "min_height": null,
            "min_width": null,
            "object_fit": null,
            "object_position": null,
            "order": null,
            "overflow": null,
            "overflow_x": null,
            "overflow_y": null,
            "padding": null,
            "right": null,
            "top": null,
            "visibility": null,
            "width": null
          }
        },
        "14c809e46f4546f0bff3328064605be5": {
          "model_module": "@jupyter-widgets/controls",
          "model_module_version": "1.5.0",
          "model_name": "FloatProgressModel",
          "state": {
            "_dom_classes": [],
            "_model_module": "@jupyter-widgets/controls",
            "_model_module_version": "1.5.0",
            "_model_name": "FloatProgressModel",
            "_view_count": null,
            "_view_module": "@jupyter-widgets/controls",
            "_view_module_version": "1.5.0",
            "_view_name": "ProgressView",
            "bar_style": "success",
            "description": "",
            "description_tooltip": null,
            "layout": "IPY_MODEL_634c6f2b1a584a21a9e7e53b33e3a2bc",
            "max": 466062,
            "min": 0,
            "orientation": "horizontal",
            "style": "IPY_MODEL_88cac2c40e5342149ef295f07fdbf728",
            "value": 466062
          }
        },
        "19e0cd9fc6df4f669ffeb040fa8fd816": {
          "model_module": "@jupyter-widgets/controls",
          "model_module_version": "1.5.0",
          "model_name": "HBoxModel",
          "state": {
            "_dom_classes": [],
            "_model_module": "@jupyter-widgets/controls",
            "_model_module_version": "1.5.0",
            "_model_name": "HBoxModel",
            "_view_count": null,
            "_view_module": "@jupyter-widgets/controls",
            "_view_module_version": "1.5.0",
            "_view_name": "HBoxView",
            "box_style": "",
            "children": [
              "IPY_MODEL_28660b74de14409d8a395c9b4cf0a784",
              "IPY_MODEL_da66813f41d0411bb24b2d5b8c6fb544",
              "IPY_MODEL_ac5f76204db94ae1886885590c02e230"
            ],
            "layout": "IPY_MODEL_b5d70a373ce843ea94b0ac169b6ff10c"
          }
        },
        "22440d616bbd4bd7a486f71fc1712f8d": {
          "model_module": "@jupyter-widgets/base",
          "model_module_version": "1.2.0",
          "model_name": "LayoutModel",
          "state": {
            "_model_module": "@jupyter-widgets/base",
            "_model_module_version": "1.2.0",
            "_model_name": "LayoutModel",
            "_view_count": null,
            "_view_module": "@jupyter-widgets/base",
            "_view_module_version": "1.2.0",
            "_view_name": "LayoutView",
            "align_content": null,
            "align_items": null,
            "align_self": null,
            "border": null,
            "bottom": null,
            "display": null,
            "flex": null,
            "flex_flow": null,
            "grid_area": null,
            "grid_auto_columns": null,
            "grid_auto_flow": null,
            "grid_auto_rows": null,
            "grid_column": null,
            "grid_gap": null,
            "grid_row": null,
            "grid_template_areas": null,
            "grid_template_columns": null,
            "grid_template_rows": null,
            "height": null,
            "justify_content": null,
            "justify_items": null,
            "left": null,
            "margin": null,
            "max_height": null,
            "max_width": null,
            "min_height": null,
            "min_width": null,
            "object_fit": null,
            "object_position": null,
            "order": null,
            "overflow": null,
            "overflow_x": null,
            "overflow_y": null,
            "padding": null,
            "right": null,
            "top": null,
            "visibility": null,
            "width": null
          }
        },
        "28660b74de14409d8a395c9b4cf0a784": {
          "model_module": "@jupyter-widgets/controls",
          "model_module_version": "1.5.0",
          "model_name": "HTMLModel",
          "state": {
            "_dom_classes": [],
            "_model_module": "@jupyter-widgets/controls",
            "_model_module_version": "1.5.0",
            "_model_name": "HTMLModel",
            "_view_count": null,
            "_view_module": "@jupyter-widgets/controls",
            "_view_module_version": "1.5.0",
            "_view_name": "HTMLView",
            "description": "",
            "description_tooltip": null,
            "layout": "IPY_MODEL_3d4bd774cd6d4fd89bc7cba7f4be388b",
            "placeholder": "​",
            "style": "IPY_MODEL_8ee6862c73bf48c9bbf391cc5bd5f22e",
            "value": "Downloading (…)okenizer_config.json: 100%"
          }
        },
        "2a20099c1d4f46f8afbf8eb239fed9a6": {
          "model_module": "@jupyter-widgets/controls",
          "model_module_version": "1.5.0",
          "model_name": "DescriptionStyleModel",
          "state": {
            "_model_module": "@jupyter-widgets/controls",
            "_model_module_version": "1.5.0",
            "_model_name": "DescriptionStyleModel",
            "_view_count": null,
            "_view_module": "@jupyter-widgets/base",
            "_view_module_version": "1.2.0",
            "_view_name": "StyleView",
            "description_width": ""
          }
        },
        "2c1ee70ed65140509759240a88d7c88d": {
          "model_module": "@jupyter-widgets/base",
          "model_module_version": "1.2.0",
          "model_name": "LayoutModel",
          "state": {
            "_model_module": "@jupyter-widgets/base",
            "_model_module_version": "1.2.0",
            "_model_name": "LayoutModel",
            "_view_count": null,
            "_view_module": "@jupyter-widgets/base",
            "_view_module_version": "1.2.0",
            "_view_name": "LayoutView",
            "align_content": null,
            "align_items": null,
            "align_self": null,
            "border": null,
            "bottom": null,
            "display": null,
            "flex": null,
            "flex_flow": null,
            "grid_area": null,
            "grid_auto_columns": null,
            "grid_auto_flow": null,
            "grid_auto_rows": null,
            "grid_column": null,
            "grid_gap": null,
            "grid_row": null,
            "grid_template_areas": null,
            "grid_template_columns": null,
            "grid_template_rows": null,
            "height": null,
            "justify_content": null,
            "justify_items": null,
            "left": null,
            "margin": null,
            "max_height": null,
            "max_width": null,
            "min_height": null,
            "min_width": null,
            "object_fit": null,
            "object_position": null,
            "order": null,
            "overflow": null,
            "overflow_x": null,
            "overflow_y": null,
            "padding": null,
            "right": null,
            "top": null,
            "visibility": null,
            "width": null
          }
        },
        "3a1e92dde70a42c8be6697d666ef18cf": {
          "model_module": "@jupyter-widgets/controls",
          "model_module_version": "1.5.0",
          "model_name": "FloatProgressModel",
          "state": {
            "_dom_classes": [],
            "_model_module": "@jupyter-widgets/controls",
            "_model_module_version": "1.5.0",
            "_model_name": "FloatProgressModel",
            "_view_count": null,
            "_view_module": "@jupyter-widgets/controls",
            "_view_module_version": "1.5.0",
            "_view_name": "ProgressView",
            "bar_style": "success",
            "description": "",
            "description_tooltip": null,
            "layout": "IPY_MODEL_0fba0c117df94c3e9d2442b8f2333393",
            "max": 440473133,
            "min": 0,
            "orientation": "horizontal",
            "style": "IPY_MODEL_627489a8d88544e7af33725129d31616",
            "value": 440473133
          }
        },
        "3d4bd774cd6d4fd89bc7cba7f4be388b": {
          "model_module": "@jupyter-widgets/base",
          "model_module_version": "1.2.0",
          "model_name": "LayoutModel",
          "state": {
            "_model_module": "@jupyter-widgets/base",
            "_model_module_version": "1.2.0",
            "_model_name": "LayoutModel",
            "_view_count": null,
            "_view_module": "@jupyter-widgets/base",
            "_view_module_version": "1.2.0",
            "_view_name": "LayoutView",
            "align_content": null,
            "align_items": null,
            "align_self": null,
            "border": null,
            "bottom": null,
            "display": null,
            "flex": null,
            "flex_flow": null,
            "grid_area": null,
            "grid_auto_columns": null,
            "grid_auto_flow": null,
            "grid_auto_rows": null,
            "grid_column": null,
            "grid_gap": null,
            "grid_row": null,
            "grid_template_areas": null,
            "grid_template_columns": null,
            "grid_template_rows": null,
            "height": null,
            "justify_content": null,
            "justify_items": null,
            "left": null,
            "margin": null,
            "max_height": null,
            "max_width": null,
            "min_height": null,
            "min_width": null,
            "object_fit": null,
            "object_position": null,
            "order": null,
            "overflow": null,
            "overflow_x": null,
            "overflow_y": null,
            "padding": null,
            "right": null,
            "top": null,
            "visibility": null,
            "width": null
          }
        },
        "3fff1fb8f53e4bedae65e869a41370a2": {
          "model_module": "@jupyter-widgets/controls",
          "model_module_version": "1.5.0",
          "model_name": "ProgressStyleModel",
          "state": {
            "_model_module": "@jupyter-widgets/controls",
            "_model_module_version": "1.5.0",
            "_model_name": "ProgressStyleModel",
            "_view_count": null,
            "_view_module": "@jupyter-widgets/base",
            "_view_module_version": "1.2.0",
            "_view_name": "StyleView",
            "bar_color": null,
            "description_width": ""
          }
        },
        "44186cc92eed45ab93f70de11f7af5de": {
          "model_module": "@jupyter-widgets/controls",
          "model_module_version": "1.5.0",
          "model_name": "DescriptionStyleModel",
          "state": {
            "_model_module": "@jupyter-widgets/controls",
            "_model_module_version": "1.5.0",
            "_model_name": "DescriptionStyleModel",
            "_view_count": null,
            "_view_module": "@jupyter-widgets/base",
            "_view_module_version": "1.2.0",
            "_view_name": "StyleView",
            "description_width": ""
          }
        },
        "55f3c3c52139483aa59f9409cc8ef748": {
          "model_module": "@jupyter-widgets/controls",
          "model_module_version": "1.5.0",
          "model_name": "HTMLModel",
          "state": {
            "_dom_classes": [],
            "_model_module": "@jupyter-widgets/controls",
            "_model_module_version": "1.5.0",
            "_model_name": "HTMLModel",
            "_view_count": null,
            "_view_module": "@jupyter-widgets/controls",
            "_view_module_version": "1.5.0",
            "_view_name": "HTMLView",
            "description": "",
            "description_tooltip": null,
            "layout": "IPY_MODEL_f832b490b3984fc7b2b96667984afa5d",
            "placeholder": "​",
            "style": "IPY_MODEL_2a20099c1d4f46f8afbf8eb239fed9a6",
            "value": " 232k/232k [00:00&lt;00:00, 1.05MB/s]"
          }
        },
        "56d094295d574ab3905f70a8a046cb9a": {
          "model_module": "@jupyter-widgets/base",
          "model_module_version": "1.2.0",
          "model_name": "LayoutModel",
          "state": {
            "_model_module": "@jupyter-widgets/base",
            "_model_module_version": "1.2.0",
            "_model_name": "LayoutModel",
            "_view_count": null,
            "_view_module": "@jupyter-widgets/base",
            "_view_module_version": "1.2.0",
            "_view_name": "LayoutView",
            "align_content": null,
            "align_items": null,
            "align_self": null,
            "border": null,
            "bottom": null,
            "display": null,
            "flex": null,
            "flex_flow": null,
            "grid_area": null,
            "grid_auto_columns": null,
            "grid_auto_flow": null,
            "grid_auto_rows": null,
            "grid_column": null,
            "grid_gap": null,
            "grid_row": null,
            "grid_template_areas": null,
            "grid_template_columns": null,
            "grid_template_rows": null,
            "height": null,
            "justify_content": null,
            "justify_items": null,
            "left": null,
            "margin": null,
            "max_height": null,
            "max_width": null,
            "min_height": null,
            "min_width": null,
            "object_fit": null,
            "object_position": null,
            "order": null,
            "overflow": null,
            "overflow_x": null,
            "overflow_y": null,
            "padding": null,
            "right": null,
            "top": null,
            "visibility": null,
            "width": null
          }
        },
        "570735e64e7444968189c43fd64d1218": {
          "model_module": "@jupyter-widgets/controls",
          "model_module_version": "1.5.0",
          "model_name": "DescriptionStyleModel",
          "state": {
            "_model_module": "@jupyter-widgets/controls",
            "_model_module_version": "1.5.0",
            "_model_name": "DescriptionStyleModel",
            "_view_count": null,
            "_view_module": "@jupyter-widgets/base",
            "_view_module_version": "1.2.0",
            "_view_name": "StyleView",
            "description_width": ""
          }
        },
        "60762bba5d0449eb849e5d5cff318560": {
          "model_module": "@jupyter-widgets/base",
          "model_module_version": "1.2.0",
          "model_name": "LayoutModel",
          "state": {
            "_model_module": "@jupyter-widgets/base",
            "_model_module_version": "1.2.0",
            "_model_name": "LayoutModel",
            "_view_count": null,
            "_view_module": "@jupyter-widgets/base",
            "_view_module_version": "1.2.0",
            "_view_name": "LayoutView",
            "align_content": null,
            "align_items": null,
            "align_self": null,
            "border": null,
            "bottom": null,
            "display": null,
            "flex": null,
            "flex_flow": null,
            "grid_area": null,
            "grid_auto_columns": null,
            "grid_auto_flow": null,
            "grid_auto_rows": null,
            "grid_column": null,
            "grid_gap": null,
            "grid_row": null,
            "grid_template_areas": null,
            "grid_template_columns": null,
            "grid_template_rows": null,
            "height": null,
            "justify_content": null,
            "justify_items": null,
            "left": null,
            "margin": null,
            "max_height": null,
            "max_width": null,
            "min_height": null,
            "min_width": null,
            "object_fit": null,
            "object_position": null,
            "order": null,
            "overflow": null,
            "overflow_x": null,
            "overflow_y": null,
            "padding": null,
            "right": null,
            "top": null,
            "visibility": null,
            "width": null
          }
        },
        "627489a8d88544e7af33725129d31616": {
          "model_module": "@jupyter-widgets/controls",
          "model_module_version": "1.5.0",
          "model_name": "ProgressStyleModel",
          "state": {
            "_model_module": "@jupyter-widgets/controls",
            "_model_module_version": "1.5.0",
            "_model_name": "ProgressStyleModel",
            "_view_count": null,
            "_view_module": "@jupyter-widgets/base",
            "_view_module_version": "1.2.0",
            "_view_name": "StyleView",
            "bar_color": null,
            "description_width": ""
          }
        },
        "634c6f2b1a584a21a9e7e53b33e3a2bc": {
          "model_module": "@jupyter-widgets/base",
          "model_module_version": "1.2.0",
          "model_name": "LayoutModel",
          "state": {
            "_model_module": "@jupyter-widgets/base",
            "_model_module_version": "1.2.0",
            "_model_name": "LayoutModel",
            "_view_count": null,
            "_view_module": "@jupyter-widgets/base",
            "_view_module_version": "1.2.0",
            "_view_name": "LayoutView",
            "align_content": null,
            "align_items": null,
            "align_self": null,
            "border": null,
            "bottom": null,
            "display": null,
            "flex": null,
            "flex_flow": null,
            "grid_area": null,
            "grid_auto_columns": null,
            "grid_auto_flow": null,
            "grid_auto_rows": null,
            "grid_column": null,
            "grid_gap": null,
            "grid_row": null,
            "grid_template_areas": null,
            "grid_template_columns": null,
            "grid_template_rows": null,
            "height": null,
            "justify_content": null,
            "justify_items": null,
            "left": null,
            "margin": null,
            "max_height": null,
            "max_width": null,
            "min_height": null,
            "min_width": null,
            "object_fit": null,
            "object_position": null,
            "order": null,
            "overflow": null,
            "overflow_x": null,
            "overflow_y": null,
            "padding": null,
            "right": null,
            "top": null,
            "visibility": null,
            "width": null
          }
        },
        "66804030705e4b28bcc9b48a6c12a417": {
          "model_module": "@jupyter-widgets/controls",
          "model_module_version": "1.5.0",
          "model_name": "FloatProgressModel",
          "state": {
            "_dom_classes": [],
            "_model_module": "@jupyter-widgets/controls",
            "_model_module_version": "1.5.0",
            "_model_name": "FloatProgressModel",
            "_view_count": null,
            "_view_module": "@jupyter-widgets/controls",
            "_view_module_version": "1.5.0",
            "_view_name": "ProgressView",
            "bar_style": "success",
            "description": "",
            "description_tooltip": null,
            "layout": "IPY_MODEL_81dd20107d5e479ba5ae3105b30acb5c",
            "max": 570,
            "min": 0,
            "orientation": "horizontal",
            "style": "IPY_MODEL_bb7fc4aca479408782d2d777332fc43e",
            "value": 570
          }
        },
        "66da92c0bbd44e88a75fd3523d31575e": {
          "model_module": "@jupyter-widgets/controls",
          "model_module_version": "1.5.0",
          "model_name": "HBoxModel",
          "state": {
            "_dom_classes": [],
            "_model_module": "@jupyter-widgets/controls",
            "_model_module_version": "1.5.0",
            "_model_name": "HBoxModel",
            "_view_count": null,
            "_view_module": "@jupyter-widgets/controls",
            "_view_module_version": "1.5.0",
            "_view_name": "HBoxView",
            "box_style": "",
            "children": [
              "IPY_MODEL_f6613c718a0d44328bceec368ea726cd",
              "IPY_MODEL_3a1e92dde70a42c8be6697d666ef18cf",
              "IPY_MODEL_83c820f2b5114060b47be334f220522c"
            ],
            "layout": "IPY_MODEL_b0fc9965af884771b8b150e60d918cdb"
          }
        },
        "780da8f54f204eb08a8db71c4fe0850c": {
          "model_module": "@jupyter-widgets/base",
          "model_module_version": "1.2.0",
          "model_name": "LayoutModel",
          "state": {
            "_model_module": "@jupyter-widgets/base",
            "_model_module_version": "1.2.0",
            "_model_name": "LayoutModel",
            "_view_count": null,
            "_view_module": "@jupyter-widgets/base",
            "_view_module_version": "1.2.0",
            "_view_name": "LayoutView",
            "align_content": null,
            "align_items": null,
            "align_self": null,
            "border": null,
            "bottom": null,
            "display": null,
            "flex": null,
            "flex_flow": null,
            "grid_area": null,
            "grid_auto_columns": null,
            "grid_auto_flow": null,
            "grid_auto_rows": null,
            "grid_column": null,
            "grid_gap": null,
            "grid_row": null,
            "grid_template_areas": null,
            "grid_template_columns": null,
            "grid_template_rows": null,
            "height": null,
            "justify_content": null,
            "justify_items": null,
            "left": null,
            "margin": null,
            "max_height": null,
            "max_width": null,
            "min_height": null,
            "min_width": null,
            "object_fit": null,
            "object_position": null,
            "order": null,
            "overflow": null,
            "overflow_x": null,
            "overflow_y": null,
            "padding": null,
            "right": null,
            "top": null,
            "visibility": null,
            "width": null
          }
        },
        "78b1483352a249239f5466c130edd290": {
          "model_module": "@jupyter-widgets/controls",
          "model_module_version": "1.5.0",
          "model_name": "HTMLModel",
          "state": {
            "_dom_classes": [],
            "_model_module": "@jupyter-widgets/controls",
            "_model_module_version": "1.5.0",
            "_model_name": "HTMLModel",
            "_view_count": null,
            "_view_module": "@jupyter-widgets/controls",
            "_view_module_version": "1.5.0",
            "_view_name": "HTMLView",
            "description": "",
            "description_tooltip": null,
            "layout": "IPY_MODEL_56d094295d574ab3905f70a8a046cb9a",
            "placeholder": "​",
            "style": "IPY_MODEL_dfbf201cf8bd4a93a115965117477a8b",
            "value": "Downloading (…)/main/tokenizer.json: 100%"
          }
        },
        "7dc370d5a4524fffbb52e6d7e719a763": {
          "model_module": "@jupyter-widgets/controls",
          "model_module_version": "1.5.0",
          "model_name": "HTMLModel",
          "state": {
            "_dom_classes": [],
            "_model_module": "@jupyter-widgets/controls",
            "_model_module_version": "1.5.0",
            "_model_name": "HTMLModel",
            "_view_count": null,
            "_view_module": "@jupyter-widgets/controls",
            "_view_module_version": "1.5.0",
            "_view_name": "HTMLView",
            "description": "",
            "description_tooltip": null,
            "layout": "IPY_MODEL_ac4bb3bf33444ada81e0c2ae0ce57ed7",
            "placeholder": "​",
            "style": "IPY_MODEL_fa06f5689d0a4f1e83d6b19ddedf122d",
            "value": " 466k/466k [00:00&lt;00:00, 2.14MB/s]"
          }
        },
        "7f08c51ba51645cc8f08b5790de80579": {
          "model_module": "@jupyter-widgets/base",
          "model_module_version": "1.2.0",
          "model_name": "LayoutModel",
          "state": {
            "_model_module": "@jupyter-widgets/base",
            "_model_module_version": "1.2.0",
            "_model_name": "LayoutModel",
            "_view_count": null,
            "_view_module": "@jupyter-widgets/base",
            "_view_module_version": "1.2.0",
            "_view_name": "LayoutView",
            "align_content": null,
            "align_items": null,
            "align_self": null,
            "border": null,
            "bottom": null,
            "display": null,
            "flex": null,
            "flex_flow": null,
            "grid_area": null,
            "grid_auto_columns": null,
            "grid_auto_flow": null,
            "grid_auto_rows": null,
            "grid_column": null,
            "grid_gap": null,
            "grid_row": null,
            "grid_template_areas": null,
            "grid_template_columns": null,
            "grid_template_rows": null,
            "height": null,
            "justify_content": null,
            "justify_items": null,
            "left": null,
            "margin": null,
            "max_height": null,
            "max_width": null,
            "min_height": null,
            "min_width": null,
            "object_fit": null,
            "object_position": null,
            "order": null,
            "overflow": null,
            "overflow_x": null,
            "overflow_y": null,
            "padding": null,
            "right": null,
            "top": null,
            "visibility": null,
            "width": null
          }
        },
        "81dd20107d5e479ba5ae3105b30acb5c": {
          "model_module": "@jupyter-widgets/base",
          "model_module_version": "1.2.0",
          "model_name": "LayoutModel",
          "state": {
            "_model_module": "@jupyter-widgets/base",
            "_model_module_version": "1.2.0",
            "_model_name": "LayoutModel",
            "_view_count": null,
            "_view_module": "@jupyter-widgets/base",
            "_view_module_version": "1.2.0",
            "_view_name": "LayoutView",
            "align_content": null,
            "align_items": null,
            "align_self": null,
            "border": null,
            "bottom": null,
            "display": null,
            "flex": null,
            "flex_flow": null,
            "grid_area": null,
            "grid_auto_columns": null,
            "grid_auto_flow": null,
            "grid_auto_rows": null,
            "grid_column": null,
            "grid_gap": null,
            "grid_row": null,
            "grid_template_areas": null,
            "grid_template_columns": null,
            "grid_template_rows": null,
            "height": null,
            "justify_content": null,
            "justify_items": null,
            "left": null,
            "margin": null,
            "max_height": null,
            "max_width": null,
            "min_height": null,
            "min_width": null,
            "object_fit": null,
            "object_position": null,
            "order": null,
            "overflow": null,
            "overflow_x": null,
            "overflow_y": null,
            "padding": null,
            "right": null,
            "top": null,
            "visibility": null,
            "width": null
          }
        },
        "83c820f2b5114060b47be334f220522c": {
          "model_module": "@jupyter-widgets/controls",
          "model_module_version": "1.5.0",
          "model_name": "HTMLModel",
          "state": {
            "_dom_classes": [],
            "_model_module": "@jupyter-widgets/controls",
            "_model_module_version": "1.5.0",
            "_model_name": "HTMLModel",
            "_view_count": null,
            "_view_module": "@jupyter-widgets/controls",
            "_view_module_version": "1.5.0",
            "_view_name": "HTMLView",
            "description": "",
            "description_tooltip": null,
            "layout": "IPY_MODEL_60762bba5d0449eb849e5d5cff318560",
            "placeholder": "​",
            "style": "IPY_MODEL_d0b922f078c1418a9900e36348109a5a",
            "value": " 440M/440M [00:01&lt;00:00, 412MB/s]"
          }
        },
        "88cac2c40e5342149ef295f07fdbf728": {
          "model_module": "@jupyter-widgets/controls",
          "model_module_version": "1.5.0",
          "model_name": "ProgressStyleModel",
          "state": {
            "_model_module": "@jupyter-widgets/controls",
            "_model_module_version": "1.5.0",
            "_model_name": "ProgressStyleModel",
            "_view_count": null,
            "_view_module": "@jupyter-widgets/base",
            "_view_module_version": "1.2.0",
            "_view_name": "StyleView",
            "bar_color": null,
            "description_width": ""
          }
        },
        "8c4efe8d2a7140408e3701406f6d7b6e": {
          "model_module": "@jupyter-widgets/controls",
          "model_module_version": "1.5.0",
          "model_name": "HBoxModel",
          "state": {
            "_dom_classes": [],
            "_model_module": "@jupyter-widgets/controls",
            "_model_module_version": "1.5.0",
            "_model_name": "HBoxModel",
            "_view_count": null,
            "_view_module": "@jupyter-widgets/controls",
            "_view_module_version": "1.5.0",
            "_view_name": "HBoxView",
            "box_style": "",
            "children": [
              "IPY_MODEL_b985e2e75e804f4ab3c4d45b91b2d260",
              "IPY_MODEL_66804030705e4b28bcc9b48a6c12a417",
              "IPY_MODEL_a5a4a6b6406e4ca0ad77e3b4b1a953d5"
            ],
            "layout": "IPY_MODEL_780da8f54f204eb08a8db71c4fe0850c"
          }
        },
        "8ee6862c73bf48c9bbf391cc5bd5f22e": {
          "model_module": "@jupyter-widgets/controls",
          "model_module_version": "1.5.0",
          "model_name": "DescriptionStyleModel",
          "state": {
            "_model_module": "@jupyter-widgets/controls",
            "_model_module_version": "1.5.0",
            "_model_name": "DescriptionStyleModel",
            "_view_count": null,
            "_view_module": "@jupyter-widgets/base",
            "_view_module_version": "1.2.0",
            "_view_name": "StyleView",
            "description_width": ""
          }
        },
        "95ec8d6bf2164bc4a1b54b202ec4c931": {
          "model_module": "@jupyter-widgets/base",
          "model_module_version": "1.2.0",
          "model_name": "LayoutModel",
          "state": {
            "_model_module": "@jupyter-widgets/base",
            "_model_module_version": "1.2.0",
            "_model_name": "LayoutModel",
            "_view_count": null,
            "_view_module": "@jupyter-widgets/base",
            "_view_module_version": "1.2.0",
            "_view_name": "LayoutView",
            "align_content": null,
            "align_items": null,
            "align_self": null,
            "border": null,
            "bottom": null,
            "display": null,
            "flex": null,
            "flex_flow": null,
            "grid_area": null,
            "grid_auto_columns": null,
            "grid_auto_flow": null,
            "grid_auto_rows": null,
            "grid_column": null,
            "grid_gap": null,
            "grid_row": null,
            "grid_template_areas": null,
            "grid_template_columns": null,
            "grid_template_rows": null,
            "height": null,
            "justify_content": null,
            "justify_items": null,
            "left": null,
            "margin": null,
            "max_height": null,
            "max_width": null,
            "min_height": null,
            "min_width": null,
            "object_fit": null,
            "object_position": null,
            "order": null,
            "overflow": null,
            "overflow_x": null,
            "overflow_y": null,
            "padding": null,
            "right": null,
            "top": null,
            "visibility": null,
            "width": null
          }
        },
        "963ec8ffa93b4174b83204790f48f567": {
          "model_module": "@jupyter-widgets/base",
          "model_module_version": "1.2.0",
          "model_name": "LayoutModel",
          "state": {
            "_model_module": "@jupyter-widgets/base",
            "_model_module_version": "1.2.0",
            "_model_name": "LayoutModel",
            "_view_count": null,
            "_view_module": "@jupyter-widgets/base",
            "_view_module_version": "1.2.0",
            "_view_name": "LayoutView",
            "align_content": null,
            "align_items": null,
            "align_self": null,
            "border": null,
            "bottom": null,
            "display": null,
            "flex": null,
            "flex_flow": null,
            "grid_area": null,
            "grid_auto_columns": null,
            "grid_auto_flow": null,
            "grid_auto_rows": null,
            "grid_column": null,
            "grid_gap": null,
            "grid_row": null,
            "grid_template_areas": null,
            "grid_template_columns": null,
            "grid_template_rows": null,
            "height": null,
            "justify_content": null,
            "justify_items": null,
            "left": null,
            "margin": null,
            "max_height": null,
            "max_width": null,
            "min_height": null,
            "min_width": null,
            "object_fit": null,
            "object_position": null,
            "order": null,
            "overflow": null,
            "overflow_x": null,
            "overflow_y": null,
            "padding": null,
            "right": null,
            "top": null,
            "visibility": null,
            "width": null
          }
        },
        "a587488c8ce54ec5a56f5025693e7bed": {
          "model_module": "@jupyter-widgets/base",
          "model_module_version": "1.2.0",
          "model_name": "LayoutModel",
          "state": {
            "_model_module": "@jupyter-widgets/base",
            "_model_module_version": "1.2.0",
            "_model_name": "LayoutModel",
            "_view_count": null,
            "_view_module": "@jupyter-widgets/base",
            "_view_module_version": "1.2.0",
            "_view_name": "LayoutView",
            "align_content": null,
            "align_items": null,
            "align_self": null,
            "border": null,
            "bottom": null,
            "display": null,
            "flex": null,
            "flex_flow": null,
            "grid_area": null,
            "grid_auto_columns": null,
            "grid_auto_flow": null,
            "grid_auto_rows": null,
            "grid_column": null,
            "grid_gap": null,
            "grid_row": null,
            "grid_template_areas": null,
            "grid_template_columns": null,
            "grid_template_rows": null,
            "height": null,
            "justify_content": null,
            "justify_items": null,
            "left": null,
            "margin": null,
            "max_height": null,
            "max_width": null,
            "min_height": null,
            "min_width": null,
            "object_fit": null,
            "object_position": null,
            "order": null,
            "overflow": null,
            "overflow_x": null,
            "overflow_y": null,
            "padding": null,
            "right": null,
            "top": null,
            "visibility": null,
            "width": null
          }
        },
        "a5a4a6b6406e4ca0ad77e3b4b1a953d5": {
          "model_module": "@jupyter-widgets/controls",
          "model_module_version": "1.5.0",
          "model_name": "HTMLModel",
          "state": {
            "_dom_classes": [],
            "_model_module": "@jupyter-widgets/controls",
            "_model_module_version": "1.5.0",
            "_model_name": "HTMLModel",
            "_view_count": null,
            "_view_module": "@jupyter-widgets/controls",
            "_view_module_version": "1.5.0",
            "_view_name": "HTMLView",
            "description": "",
            "description_tooltip": null,
            "layout": "IPY_MODEL_2c1ee70ed65140509759240a88d7c88d",
            "placeholder": "​",
            "style": "IPY_MODEL_b88992bde8194917a50307c7c621cc2d",
            "value": " 570/570 [00:00&lt;00:00, 42.6kB/s]"
          }
        },
        "a7a0c2a7a897450ea28276cd34cba90b": {
          "model_module": "@jupyter-widgets/base",
          "model_module_version": "1.2.0",
          "model_name": "LayoutModel",
          "state": {
            "_model_module": "@jupyter-widgets/base",
            "_model_module_version": "1.2.0",
            "_model_name": "LayoutModel",
            "_view_count": null,
            "_view_module": "@jupyter-widgets/base",
            "_view_module_version": "1.2.0",
            "_view_name": "LayoutView",
            "align_content": null,
            "align_items": null,
            "align_self": null,
            "border": null,
            "bottom": null,
            "display": null,
            "flex": null,
            "flex_flow": null,
            "grid_area": null,
            "grid_auto_columns": null,
            "grid_auto_flow": null,
            "grid_auto_rows": null,
            "grid_column": null,
            "grid_gap": null,
            "grid_row": null,
            "grid_template_areas": null,
            "grid_template_columns": null,
            "grid_template_rows": null,
            "height": null,
            "justify_content": null,
            "justify_items": null,
            "left": null,
            "margin": null,
            "max_height": null,
            "max_width": null,
            "min_height": null,
            "min_width": null,
            "object_fit": null,
            "object_position": null,
            "order": null,
            "overflow": null,
            "overflow_x": null,
            "overflow_y": null,
            "padding": null,
            "right": null,
            "top": null,
            "visibility": null,
            "width": null
          }
        },
        "ac4bb3bf33444ada81e0c2ae0ce57ed7": {
          "model_module": "@jupyter-widgets/base",
          "model_module_version": "1.2.0",
          "model_name": "LayoutModel",
          "state": {
            "_model_module": "@jupyter-widgets/base",
            "_model_module_version": "1.2.0",
            "_model_name": "LayoutModel",
            "_view_count": null,
            "_view_module": "@jupyter-widgets/base",
            "_view_module_version": "1.2.0",
            "_view_name": "LayoutView",
            "align_content": null,
            "align_items": null,
            "align_self": null,
            "border": null,
            "bottom": null,
            "display": null,
            "flex": null,
            "flex_flow": null,
            "grid_area": null,
            "grid_auto_columns": null,
            "grid_auto_flow": null,
            "grid_auto_rows": null,
            "grid_column": null,
            "grid_gap": null,
            "grid_row": null,
            "grid_template_areas": null,
            "grid_template_columns": null,
            "grid_template_rows": null,
            "height": null,
            "justify_content": null,
            "justify_items": null,
            "left": null,
            "margin": null,
            "max_height": null,
            "max_width": null,
            "min_height": null,
            "min_width": null,
            "object_fit": null,
            "object_position": null,
            "order": null,
            "overflow": null,
            "overflow_x": null,
            "overflow_y": null,
            "padding": null,
            "right": null,
            "top": null,
            "visibility": null,
            "width": null
          }
        },
        "ac5f76204db94ae1886885590c02e230": {
          "model_module": "@jupyter-widgets/controls",
          "model_module_version": "1.5.0",
          "model_name": "HTMLModel",
          "state": {
            "_dom_classes": [],
            "_model_module": "@jupyter-widgets/controls",
            "_model_module_version": "1.5.0",
            "_model_name": "HTMLModel",
            "_view_count": null,
            "_view_module": "@jupyter-widgets/controls",
            "_view_module_version": "1.5.0",
            "_view_name": "HTMLView",
            "description": "",
            "description_tooltip": null,
            "layout": "IPY_MODEL_7f08c51ba51645cc8f08b5790de80579",
            "placeholder": "​",
            "style": "IPY_MODEL_570735e64e7444968189c43fd64d1218",
            "value": " 28.0/28.0 [00:00&lt;00:00, 2.26kB/s]"
          }
        },
        "b0fc9965af884771b8b150e60d918cdb": {
          "model_module": "@jupyter-widgets/base",
          "model_module_version": "1.2.0",
          "model_name": "LayoutModel",
          "state": {
            "_model_module": "@jupyter-widgets/base",
            "_model_module_version": "1.2.0",
            "_model_name": "LayoutModel",
            "_view_count": null,
            "_view_module": "@jupyter-widgets/base",
            "_view_module_version": "1.2.0",
            "_view_name": "LayoutView",
            "align_content": null,
            "align_items": null,
            "align_self": null,
            "border": null,
            "bottom": null,
            "display": null,
            "flex": null,
            "flex_flow": null,
            "grid_area": null,
            "grid_auto_columns": null,
            "grid_auto_flow": null,
            "grid_auto_rows": null,
            "grid_column": null,
            "grid_gap": null,
            "grid_row": null,
            "grid_template_areas": null,
            "grid_template_columns": null,
            "grid_template_rows": null,
            "height": null,
            "justify_content": null,
            "justify_items": null,
            "left": null,
            "margin": null,
            "max_height": null,
            "max_width": null,
            "min_height": null,
            "min_width": null,
            "object_fit": null,
            "object_position": null,
            "order": null,
            "overflow": null,
            "overflow_x": null,
            "overflow_y": null,
            "padding": null,
            "right": null,
            "top": null,
            "visibility": null,
            "width": null
          }
        },
        "b466aa9c18304022900a13b05b4bdb21": {
          "model_module": "@jupyter-widgets/controls",
          "model_module_version": "1.5.0",
          "model_name": "HBoxModel",
          "state": {
            "_dom_classes": [],
            "_model_module": "@jupyter-widgets/controls",
            "_model_module_version": "1.5.0",
            "_model_name": "HBoxModel",
            "_view_count": null,
            "_view_module": "@jupyter-widgets/controls",
            "_view_module_version": "1.5.0",
            "_view_name": "HBoxView",
            "box_style": "",
            "children": [
              "IPY_MODEL_78b1483352a249239f5466c130edd290",
              "IPY_MODEL_14c809e46f4546f0bff3328064605be5",
              "IPY_MODEL_7dc370d5a4524fffbb52e6d7e719a763"
            ],
            "layout": "IPY_MODEL_0fbe10db52784c1ba50c64e3402bf29b"
          }
        },
        "b498680fa4504fc68931f1f2e99e1947": {
          "model_module": "@jupyter-widgets/controls",
          "model_module_version": "1.5.0",
          "model_name": "ProgressStyleModel",
          "state": {
            "_model_module": "@jupyter-widgets/controls",
            "_model_module_version": "1.5.0",
            "_model_name": "ProgressStyleModel",
            "_view_count": null,
            "_view_module": "@jupyter-widgets/base",
            "_view_module_version": "1.2.0",
            "_view_name": "StyleView",
            "bar_color": null,
            "description_width": ""
          }
        },
        "b5d70a373ce843ea94b0ac169b6ff10c": {
          "model_module": "@jupyter-widgets/base",
          "model_module_version": "1.2.0",
          "model_name": "LayoutModel",
          "state": {
            "_model_module": "@jupyter-widgets/base",
            "_model_module_version": "1.2.0",
            "_model_name": "LayoutModel",
            "_view_count": null,
            "_view_module": "@jupyter-widgets/base",
            "_view_module_version": "1.2.0",
            "_view_name": "LayoutView",
            "align_content": null,
            "align_items": null,
            "align_self": null,
            "border": null,
            "bottom": null,
            "display": null,
            "flex": null,
            "flex_flow": null,
            "grid_area": null,
            "grid_auto_columns": null,
            "grid_auto_flow": null,
            "grid_auto_rows": null,
            "grid_column": null,
            "grid_gap": null,
            "grid_row": null,
            "grid_template_areas": null,
            "grid_template_columns": null,
            "grid_template_rows": null,
            "height": null,
            "justify_content": null,
            "justify_items": null,
            "left": null,
            "margin": null,
            "max_height": null,
            "max_width": null,
            "min_height": null,
            "min_width": null,
            "object_fit": null,
            "object_position": null,
            "order": null,
            "overflow": null,
            "overflow_x": null,
            "overflow_y": null,
            "padding": null,
            "right": null,
            "top": null,
            "visibility": null,
            "width": null
          }
        },
        "b88992bde8194917a50307c7c621cc2d": {
          "model_module": "@jupyter-widgets/controls",
          "model_module_version": "1.5.0",
          "model_name": "DescriptionStyleModel",
          "state": {
            "_model_module": "@jupyter-widgets/controls",
            "_model_module_version": "1.5.0",
            "_model_name": "DescriptionStyleModel",
            "_view_count": null,
            "_view_module": "@jupyter-widgets/base",
            "_view_module_version": "1.2.0",
            "_view_name": "StyleView",
            "description_width": ""
          }
        },
        "b985e2e75e804f4ab3c4d45b91b2d260": {
          "model_module": "@jupyter-widgets/controls",
          "model_module_version": "1.5.0",
          "model_name": "HTMLModel",
          "state": {
            "_dom_classes": [],
            "_model_module": "@jupyter-widgets/controls",
            "_model_module_version": "1.5.0",
            "_model_name": "HTMLModel",
            "_view_count": null,
            "_view_module": "@jupyter-widgets/controls",
            "_view_module_version": "1.5.0",
            "_view_name": "HTMLView",
            "description": "",
            "description_tooltip": null,
            "layout": "IPY_MODEL_a587488c8ce54ec5a56f5025693e7bed",
            "placeholder": "​",
            "style": "IPY_MODEL_cdc135d9b0284dc5ac03ca544b17f848",
            "value": "Downloading (…)lve/main/config.json: 100%"
          }
        },
        "bb7fc4aca479408782d2d777332fc43e": {
          "model_module": "@jupyter-widgets/controls",
          "model_module_version": "1.5.0",
          "model_name": "ProgressStyleModel",
          "state": {
            "_model_module": "@jupyter-widgets/controls",
            "_model_module_version": "1.5.0",
            "_model_name": "ProgressStyleModel",
            "_view_count": null,
            "_view_module": "@jupyter-widgets/base",
            "_view_module_version": "1.2.0",
            "_view_name": "StyleView",
            "bar_color": null,
            "description_width": ""
          }
        },
        "cdc135d9b0284dc5ac03ca544b17f848": {
          "model_module": "@jupyter-widgets/controls",
          "model_module_version": "1.5.0",
          "model_name": "DescriptionStyleModel",
          "state": {
            "_model_module": "@jupyter-widgets/controls",
            "_model_module_version": "1.5.0",
            "_model_name": "DescriptionStyleModel",
            "_view_count": null,
            "_view_module": "@jupyter-widgets/base",
            "_view_module_version": "1.2.0",
            "_view_name": "StyleView",
            "description_width": ""
          }
        },
        "d00d161b83a940138f10ee634d07bc4e": {
          "model_module": "@jupyter-widgets/controls",
          "model_module_version": "1.5.0",
          "model_name": "DescriptionStyleModel",
          "state": {
            "_model_module": "@jupyter-widgets/controls",
            "_model_module_version": "1.5.0",
            "_model_name": "DescriptionStyleModel",
            "_view_count": null,
            "_view_module": "@jupyter-widgets/base",
            "_view_module_version": "1.2.0",
            "_view_name": "StyleView",
            "description_width": ""
          }
        },
        "d0b922f078c1418a9900e36348109a5a": {
          "model_module": "@jupyter-widgets/controls",
          "model_module_version": "1.5.0",
          "model_name": "DescriptionStyleModel",
          "state": {
            "_model_module": "@jupyter-widgets/controls",
            "_model_module_version": "1.5.0",
            "_model_name": "DescriptionStyleModel",
            "_view_count": null,
            "_view_module": "@jupyter-widgets/base",
            "_view_module_version": "1.2.0",
            "_view_name": "StyleView",
            "description_width": ""
          }
        },
        "d3d83321dd70417ca966a0a1a959bb2f": {
          "model_module": "@jupyter-widgets/controls",
          "model_module_version": "1.5.0",
          "model_name": "FloatProgressModel",
          "state": {
            "_dom_classes": [],
            "_model_module": "@jupyter-widgets/controls",
            "_model_module_version": "1.5.0",
            "_model_name": "FloatProgressModel",
            "_view_count": null,
            "_view_module": "@jupyter-widgets/controls",
            "_view_module_version": "1.5.0",
            "_view_name": "ProgressView",
            "bar_style": "success",
            "description": "",
            "description_tooltip": null,
            "layout": "IPY_MODEL_0dab9610a7894056b6f5820f9ad18678",
            "max": 231508,
            "min": 0,
            "orientation": "horizontal",
            "style": "IPY_MODEL_3fff1fb8f53e4bedae65e869a41370a2",
            "value": 231508
          }
        },
        "da66813f41d0411bb24b2d5b8c6fb544": {
          "model_module": "@jupyter-widgets/controls",
          "model_module_version": "1.5.0",
          "model_name": "FloatProgressModel",
          "state": {
            "_dom_classes": [],
            "_model_module": "@jupyter-widgets/controls",
            "_model_module_version": "1.5.0",
            "_model_name": "FloatProgressModel",
            "_view_count": null,
            "_view_module": "@jupyter-widgets/controls",
            "_view_module_version": "1.5.0",
            "_view_name": "ProgressView",
            "bar_style": "success",
            "description": "",
            "description_tooltip": null,
            "layout": "IPY_MODEL_a7a0c2a7a897450ea28276cd34cba90b",
            "max": 28,
            "min": 0,
            "orientation": "horizontal",
            "style": "IPY_MODEL_b498680fa4504fc68931f1f2e99e1947",
            "value": 28
          }
        },
        "dfbf201cf8bd4a93a115965117477a8b": {
          "model_module": "@jupyter-widgets/controls",
          "model_module_version": "1.5.0",
          "model_name": "DescriptionStyleModel",
          "state": {
            "_model_module": "@jupyter-widgets/controls",
            "_model_module_version": "1.5.0",
            "_model_name": "DescriptionStyleModel",
            "_view_count": null,
            "_view_module": "@jupyter-widgets/base",
            "_view_module_version": "1.2.0",
            "_view_name": "StyleView",
            "description_width": ""
          }
        },
        "f40d0db17f0e4062a2bb8efe13112148": {
          "model_module": "@jupyter-widgets/controls",
          "model_module_version": "1.5.0",
          "model_name": "HTMLModel",
          "state": {
            "_dom_classes": [],
            "_model_module": "@jupyter-widgets/controls",
            "_model_module_version": "1.5.0",
            "_model_name": "HTMLModel",
            "_view_count": null,
            "_view_module": "@jupyter-widgets/controls",
            "_view_module_version": "1.5.0",
            "_view_name": "HTMLView",
            "description": "",
            "description_tooltip": null,
            "layout": "IPY_MODEL_963ec8ffa93b4174b83204790f48f567",
            "placeholder": "​",
            "style": "IPY_MODEL_44186cc92eed45ab93f70de11f7af5de",
            "value": "Downloading (…)solve/main/vocab.txt: 100%"
          }
        },
        "f6613c718a0d44328bceec368ea726cd": {
          "model_module": "@jupyter-widgets/controls",
          "model_module_version": "1.5.0",
          "model_name": "HTMLModel",
          "state": {
            "_dom_classes": [],
            "_model_module": "@jupyter-widgets/controls",
            "_model_module_version": "1.5.0",
            "_model_name": "HTMLModel",
            "_view_count": null,
            "_view_module": "@jupyter-widgets/controls",
            "_view_module_version": "1.5.0",
            "_view_name": "HTMLView",
            "description": "",
            "description_tooltip": null,
            "layout": "IPY_MODEL_22440d616bbd4bd7a486f71fc1712f8d",
            "placeholder": "​",
            "style": "IPY_MODEL_d00d161b83a940138f10ee634d07bc4e",
            "value": "Downloading pytorch_model.bin: 100%"
          }
        },
        "f832b490b3984fc7b2b96667984afa5d": {
          "model_module": "@jupyter-widgets/base",
          "model_module_version": "1.2.0",
          "model_name": "LayoutModel",
          "state": {
            "_model_module": "@jupyter-widgets/base",
            "_model_module_version": "1.2.0",
            "_model_name": "LayoutModel",
            "_view_count": null,
            "_view_module": "@jupyter-widgets/base",
            "_view_module_version": "1.2.0",
            "_view_name": "LayoutView",
            "align_content": null,
            "align_items": null,
            "align_self": null,
            "border": null,
            "bottom": null,
            "display": null,
            "flex": null,
            "flex_flow": null,
            "grid_area": null,
            "grid_auto_columns": null,
            "grid_auto_flow": null,
            "grid_auto_rows": null,
            "grid_column": null,
            "grid_gap": null,
            "grid_row": null,
            "grid_template_areas": null,
            "grid_template_columns": null,
            "grid_template_rows": null,
            "height": null,
            "justify_content": null,
            "justify_items": null,
            "left": null,
            "margin": null,
            "max_height": null,
            "max_width": null,
            "min_height": null,
            "min_width": null,
            "object_fit": null,
            "object_position": null,
            "order": null,
            "overflow": null,
            "overflow_x": null,
            "overflow_y": null,
            "padding": null,
            "right": null,
            "top": null,
            "visibility": null,
            "width": null
          }
        },
        "fa06f5689d0a4f1e83d6b19ddedf122d": {
          "model_module": "@jupyter-widgets/controls",
          "model_module_version": "1.5.0",
          "model_name": "DescriptionStyleModel",
          "state": {
            "_model_module": "@jupyter-widgets/controls",
            "_model_module_version": "1.5.0",
            "_model_name": "DescriptionStyleModel",
            "_view_count": null,
            "_view_module": "@jupyter-widgets/base",
            "_view_module_version": "1.2.0",
            "_view_name": "StyleView",
            "description_width": ""
          }
        }
      }
    }
  },
  "nbformat": 4,
  "nbformat_minor": 0
}
