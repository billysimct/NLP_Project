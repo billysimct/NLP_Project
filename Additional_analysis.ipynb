{
  "nbformat": 4,
  "nbformat_minor": 0,
  "metadata": {
    "colab": {
      "provenance": []
    },
    "kernelspec": {
      "name": "python3",
      "display_name": "Python 3"
    },
    "language_info": {
      "name": "python"
    }
  },
  "cells": [
    {
      "cell_type": "code",
      "execution_count": 1,
      "metadata": {
        "id": "lpW_mdzPvs_I",
        "colab": {
          "base_uri": "https://localhost:8080/"
        },
        "outputId": "a4929f4e-95c8-4602-ad2d-ecc72723f7bb"
      },
      "outputs": [
        {
          "output_type": "stream",
          "name": "stderr",
          "text": [
            "[nltk_data] Downloading package stopwords to /root/nltk_data...\n",
            "[nltk_data]   Package stopwords is already up-to-date!\n",
            "[nltk_data] Downloading package punkt to /root/nltk_data...\n",
            "[nltk_data]   Package punkt is already up-to-date!\n"
          ]
        },
        {
          "output_type": "execute_result",
          "data": {
            "text/plain": [
              "True"
            ]
          },
          "metadata": {},
          "execution_count": 1
        }
      ],
      "source": [
        "import pandas as pd\n",
        "import numpy as np\n",
        "from sklearn.feature_extraction.text import TfidfVectorizer\n",
        "\n",
        "from sklearn.model_selection import train_test_split\n",
        "from sklearn.metrics import accuracy_score, confusion_matrix\n",
        "from sklearn.pipeline import make_pipeline\n",
        "from sklearn.preprocessing import StandardScaler\n",
        "from nltk.corpus import stopwords\n",
        "import re\n",
        "import nltk\n",
        "nltk.download('stopwords')\n",
        "nltk.download('punkt')"
      ]
    },
    {
      "cell_type": "markdown",
      "source": [
        "# Multi-modal learning\n",
        "The way to approach this problem is to separately process the text and quantitative data. <br> For the text data, we will need to transform it into numerical form using an embedding of some sort. <br> The quantitative data can be pre-processed using the standard pre-processing techniques such as normalization. <br>The two sets of data are then concate to put into one single classifier ML algorithm.\n",
        "<br><br> To tackle this challenge, we will utilize basic algorithms first before stepping up to transformers, GPT embeddings etc."
      ],
      "metadata": {
        "id": "0skNKVXQrB7q"
      }
    },
    {
      "cell_type": "code",
      "source": [
        "fomc_statements = pd.read_excel('FOMC Statements 1997-2023.xlsx')\n",
        "fomc_statements.rename(columns={\"Meeting Date\":\"Meeting_Date\", \"Unnamed: 1\":\"Statement\"}, inplace=True)\n",
        "fomc_statements"
      ],
      "metadata": {
        "colab": {
          "base_uri": "https://localhost:8080/",
          "height": 424
        },
        "id": "h44QmDDqVvle",
        "outputId": "c353a231-be70-4ac7-a938-603e65ac1201"
      },
      "execution_count": 2,
      "outputs": [
        {
          "output_type": "execute_result",
          "data": {
            "text/plain": [
              "    Meeting_Date                                          Statement\n",
              "0     1997-03-25  _x000D_\\n_x000D_\\n\\tThe Federal Open Market Co...\n",
              "1     1998-09-29  _x000D_\\nThe Federal Open Market Committee dec...\n",
              "2     1998-10-15  _x000D_\\nThe Federal Reserve today announced t...\n",
              "3     1998-11-17  _x000D_\\nThe Federal Reserve today announced t...\n",
              "4     1999-05-18  _x000D_\\nThe Federal Reserve released the foll...\n",
              "..           ...                                                ...\n",
              "201   2022-09-21  \\nRecent indicators point to modest growth in ...\n",
              "202   2022-11-02  \\nRecent indicators point to modest growth in ...\n",
              "203   2022-12-14  \\nRecent indicators point to modest growth in ...\n",
              "204   2023-02-01  \\nRecent indicators point to modest growth in ...\n",
              "205   2023-03-22  \\nRecent indicators point to modest growth in ...\n",
              "\n",
              "[206 rows x 2 columns]"
            ],
            "text/html": [
              "\n",
              "  <div id=\"df-a57552f4-5c81-4a3d-a5f1-95a4a16af569\">\n",
              "    <div class=\"colab-df-container\">\n",
              "      <div>\n",
              "<style scoped>\n",
              "    .dataframe tbody tr th:only-of-type {\n",
              "        vertical-align: middle;\n",
              "    }\n",
              "\n",
              "    .dataframe tbody tr th {\n",
              "        vertical-align: top;\n",
              "    }\n",
              "\n",
              "    .dataframe thead th {\n",
              "        text-align: right;\n",
              "    }\n",
              "</style>\n",
              "<table border=\"1\" class=\"dataframe\">\n",
              "  <thead>\n",
              "    <tr style=\"text-align: right;\">\n",
              "      <th></th>\n",
              "      <th>Meeting_Date</th>\n",
              "      <th>Statement</th>\n",
              "    </tr>\n",
              "  </thead>\n",
              "  <tbody>\n",
              "    <tr>\n",
              "      <th>0</th>\n",
              "      <td>1997-03-25</td>\n",
              "      <td>_x000D_\\n_x000D_\\n\\tThe Federal Open Market Co...</td>\n",
              "    </tr>\n",
              "    <tr>\n",
              "      <th>1</th>\n",
              "      <td>1998-09-29</td>\n",
              "      <td>_x000D_\\nThe Federal Open Market Committee dec...</td>\n",
              "    </tr>\n",
              "    <tr>\n",
              "      <th>2</th>\n",
              "      <td>1998-10-15</td>\n",
              "      <td>_x000D_\\nThe Federal Reserve today announced t...</td>\n",
              "    </tr>\n",
              "    <tr>\n",
              "      <th>3</th>\n",
              "      <td>1998-11-17</td>\n",
              "      <td>_x000D_\\nThe Federal Reserve today announced t...</td>\n",
              "    </tr>\n",
              "    <tr>\n",
              "      <th>4</th>\n",
              "      <td>1999-05-18</td>\n",
              "      <td>_x000D_\\nThe Federal Reserve released the foll...</td>\n",
              "    </tr>\n",
              "    <tr>\n",
              "      <th>...</th>\n",
              "      <td>...</td>\n",
              "      <td>...</td>\n",
              "    </tr>\n",
              "    <tr>\n",
              "      <th>201</th>\n",
              "      <td>2022-09-21</td>\n",
              "      <td>\\nRecent indicators point to modest growth in ...</td>\n",
              "    </tr>\n",
              "    <tr>\n",
              "      <th>202</th>\n",
              "      <td>2022-11-02</td>\n",
              "      <td>\\nRecent indicators point to modest growth in ...</td>\n",
              "    </tr>\n",
              "    <tr>\n",
              "      <th>203</th>\n",
              "      <td>2022-12-14</td>\n",
              "      <td>\\nRecent indicators point to modest growth in ...</td>\n",
              "    </tr>\n",
              "    <tr>\n",
              "      <th>204</th>\n",
              "      <td>2023-02-01</td>\n",
              "      <td>\\nRecent indicators point to modest growth in ...</td>\n",
              "    </tr>\n",
              "    <tr>\n",
              "      <th>205</th>\n",
              "      <td>2023-03-22</td>\n",
              "      <td>\\nRecent indicators point to modest growth in ...</td>\n",
              "    </tr>\n",
              "  </tbody>\n",
              "</table>\n",
              "<p>206 rows × 2 columns</p>\n",
              "</div>\n",
              "      <button class=\"colab-df-convert\" onclick=\"convertToInteractive('df-a57552f4-5c81-4a3d-a5f1-95a4a16af569')\"\n",
              "              title=\"Convert this dataframe to an interactive table.\"\n",
              "              style=\"display:none;\">\n",
              "        \n",
              "  <svg xmlns=\"http://www.w3.org/2000/svg\" height=\"24px\"viewBox=\"0 0 24 24\"\n",
              "       width=\"24px\">\n",
              "    <path d=\"M0 0h24v24H0V0z\" fill=\"none\"/>\n",
              "    <path d=\"M18.56 5.44l.94 2.06.94-2.06 2.06-.94-2.06-.94-.94-2.06-.94 2.06-2.06.94zm-11 1L8.5 8.5l.94-2.06 2.06-.94-2.06-.94L8.5 2.5l-.94 2.06-2.06.94zm10 10l.94 2.06.94-2.06 2.06-.94-2.06-.94-.94-2.06-.94 2.06-2.06.94z\"/><path d=\"M17.41 7.96l-1.37-1.37c-.4-.4-.92-.59-1.43-.59-.52 0-1.04.2-1.43.59L10.3 9.45l-7.72 7.72c-.78.78-.78 2.05 0 2.83L4 21.41c.39.39.9.59 1.41.59.51 0 1.02-.2 1.41-.59l7.78-7.78 2.81-2.81c.8-.78.8-2.07 0-2.86zM5.41 20L4 18.59l7.72-7.72 1.47 1.35L5.41 20z\"/>\n",
              "  </svg>\n",
              "      </button>\n",
              "      \n",
              "  <style>\n",
              "    .colab-df-container {\n",
              "      display:flex;\n",
              "      flex-wrap:wrap;\n",
              "      gap: 12px;\n",
              "    }\n",
              "\n",
              "    .colab-df-convert {\n",
              "      background-color: #E8F0FE;\n",
              "      border: none;\n",
              "      border-radius: 50%;\n",
              "      cursor: pointer;\n",
              "      display: none;\n",
              "      fill: #1967D2;\n",
              "      height: 32px;\n",
              "      padding: 0 0 0 0;\n",
              "      width: 32px;\n",
              "    }\n",
              "\n",
              "    .colab-df-convert:hover {\n",
              "      background-color: #E2EBFA;\n",
              "      box-shadow: 0px 1px 2px rgba(60, 64, 67, 0.3), 0px 1px 3px 1px rgba(60, 64, 67, 0.15);\n",
              "      fill: #174EA6;\n",
              "    }\n",
              "\n",
              "    [theme=dark] .colab-df-convert {\n",
              "      background-color: #3B4455;\n",
              "      fill: #D2E3FC;\n",
              "    }\n",
              "\n",
              "    [theme=dark] .colab-df-convert:hover {\n",
              "      background-color: #434B5C;\n",
              "      box-shadow: 0px 1px 3px 1px rgba(0, 0, 0, 0.15);\n",
              "      filter: drop-shadow(0px 1px 2px rgba(0, 0, 0, 0.3));\n",
              "      fill: #FFFFFF;\n",
              "    }\n",
              "  </style>\n",
              "\n",
              "      <script>\n",
              "        const buttonEl =\n",
              "          document.querySelector('#df-a57552f4-5c81-4a3d-a5f1-95a4a16af569 button.colab-df-convert');\n",
              "        buttonEl.style.display =\n",
              "          google.colab.kernel.accessAllowed ? 'block' : 'none';\n",
              "\n",
              "        async function convertToInteractive(key) {\n",
              "          const element = document.querySelector('#df-a57552f4-5c81-4a3d-a5f1-95a4a16af569');\n",
              "          const dataTable =\n",
              "            await google.colab.kernel.invokeFunction('convertToInteractive',\n",
              "                                                     [key], {});\n",
              "          if (!dataTable) return;\n",
              "\n",
              "          const docLinkHtml = 'Like what you see? Visit the ' +\n",
              "            '<a target=\"_blank\" href=https://colab.research.google.com/notebooks/data_table.ipynb>data table notebook</a>'\n",
              "            + ' to learn more about interactive tables.';\n",
              "          element.innerHTML = '';\n",
              "          dataTable['output_type'] = 'display_data';\n",
              "          await google.colab.output.renderOutput(dataTable, element);\n",
              "          const docLink = document.createElement('div');\n",
              "          docLink.innerHTML = docLinkHtml;\n",
              "          element.appendChild(docLink);\n",
              "        }\n",
              "      </script>\n",
              "    </div>\n",
              "  </div>\n",
              "  "
            ]
          },
          "metadata": {},
          "execution_count": 2
        }
      ]
    },
    {
      "cell_type": "code",
      "source": [
        "econs_metrics = pd.read_excel('FOMC_econometrics_v1.xlsx')\n",
        "econs_metrics.rename(columns={'Dates':'Meeting_Date'}, inplace=True)\n",
        "econs_metrics"
      ],
      "metadata": {
        "colab": {
          "base_uri": "https://localhost:8080/",
          "height": 424
        },
        "id": "qJmKAnBvWKAq",
        "outputId": "57110218-730d-4f6d-bfaa-1d2ff9fab090"
      },
      "execution_count": 3,
      "outputs": [
        {
          "output_type": "execute_result",
          "data": {
            "text/plain": [
              "    Meeting_Date  Label  Fed_fund_rate  Unemployment_rate  Core_CPI  \\\n",
              "0     1997-03-25      1           5.47                5.2       2.5   \n",
              "1     1998-09-29      0           5.55                4.5       2.5   \n",
              "2     1998-10-15      0           5.33                4.6       2.5   \n",
              "3     1998-11-17      0           5.45                4.5       2.3   \n",
              "4     1999-05-18      0           5.01                4.3       2.2   \n",
              "..           ...    ...            ...                ...       ...   \n",
              "201   2022-09-21      1           2.33                3.7       6.3   \n",
              "202   2022-11-02      1           3.08                3.7       6.3   \n",
              "203   2022-12-14      0           3.83                3.6       6.0   \n",
              "204   2023-02-01      0           4.33                3.4       5.6   \n",
              "205   2023-03-22      0           4.58                3.6       5.5   \n",
              "\n",
              "     US_10-2_Spread  \n",
              "0            0.4530  \n",
              "1            0.1200  \n",
              "2            0.5820  \n",
              "3            0.3100  \n",
              "4            0.3160  \n",
              "..              ...  \n",
              "201         -0.5185  \n",
              "202         -0.5192  \n",
              "203         -0.7321  \n",
              "204         -0.6897  \n",
              "205         -0.5026  \n",
              "\n",
              "[206 rows x 6 columns]"
            ],
            "text/html": [
              "\n",
              "  <div id=\"df-08edc63e-40dd-47d3-886e-64b4351bb2ab\">\n",
              "    <div class=\"colab-df-container\">\n",
              "      <div>\n",
              "<style scoped>\n",
              "    .dataframe tbody tr th:only-of-type {\n",
              "        vertical-align: middle;\n",
              "    }\n",
              "\n",
              "    .dataframe tbody tr th {\n",
              "        vertical-align: top;\n",
              "    }\n",
              "\n",
              "    .dataframe thead th {\n",
              "        text-align: right;\n",
              "    }\n",
              "</style>\n",
              "<table border=\"1\" class=\"dataframe\">\n",
              "  <thead>\n",
              "    <tr style=\"text-align: right;\">\n",
              "      <th></th>\n",
              "      <th>Meeting_Date</th>\n",
              "      <th>Label</th>\n",
              "      <th>Fed_fund_rate</th>\n",
              "      <th>Unemployment_rate</th>\n",
              "      <th>Core_CPI</th>\n",
              "      <th>US_10-2_Spread</th>\n",
              "    </tr>\n",
              "  </thead>\n",
              "  <tbody>\n",
              "    <tr>\n",
              "      <th>0</th>\n",
              "      <td>1997-03-25</td>\n",
              "      <td>1</td>\n",
              "      <td>5.47</td>\n",
              "      <td>5.2</td>\n",
              "      <td>2.5</td>\n",
              "      <td>0.4530</td>\n",
              "    </tr>\n",
              "    <tr>\n",
              "      <th>1</th>\n",
              "      <td>1998-09-29</td>\n",
              "      <td>0</td>\n",
              "      <td>5.55</td>\n",
              "      <td>4.5</td>\n",
              "      <td>2.5</td>\n",
              "      <td>0.1200</td>\n",
              "    </tr>\n",
              "    <tr>\n",
              "      <th>2</th>\n",
              "      <td>1998-10-15</td>\n",
              "      <td>0</td>\n",
              "      <td>5.33</td>\n",
              "      <td>4.6</td>\n",
              "      <td>2.5</td>\n",
              "      <td>0.5820</td>\n",
              "    </tr>\n",
              "    <tr>\n",
              "      <th>3</th>\n",
              "      <td>1998-11-17</td>\n",
              "      <td>0</td>\n",
              "      <td>5.45</td>\n",
              "      <td>4.5</td>\n",
              "      <td>2.3</td>\n",
              "      <td>0.3100</td>\n",
              "    </tr>\n",
              "    <tr>\n",
              "      <th>4</th>\n",
              "      <td>1999-05-18</td>\n",
              "      <td>0</td>\n",
              "      <td>5.01</td>\n",
              "      <td>4.3</td>\n",
              "      <td>2.2</td>\n",
              "      <td>0.3160</td>\n",
              "    </tr>\n",
              "    <tr>\n",
              "      <th>...</th>\n",
              "      <td>...</td>\n",
              "      <td>...</td>\n",
              "      <td>...</td>\n",
              "      <td>...</td>\n",
              "      <td>...</td>\n",
              "      <td>...</td>\n",
              "    </tr>\n",
              "    <tr>\n",
              "      <th>201</th>\n",
              "      <td>2022-09-21</td>\n",
              "      <td>1</td>\n",
              "      <td>2.33</td>\n",
              "      <td>3.7</td>\n",
              "      <td>6.3</td>\n",
              "      <td>-0.5185</td>\n",
              "    </tr>\n",
              "    <tr>\n",
              "      <th>202</th>\n",
              "      <td>2022-11-02</td>\n",
              "      <td>1</td>\n",
              "      <td>3.08</td>\n",
              "      <td>3.7</td>\n",
              "      <td>6.3</td>\n",
              "      <td>-0.5192</td>\n",
              "    </tr>\n",
              "    <tr>\n",
              "      <th>203</th>\n",
              "      <td>2022-12-14</td>\n",
              "      <td>0</td>\n",
              "      <td>3.83</td>\n",
              "      <td>3.6</td>\n",
              "      <td>6.0</td>\n",
              "      <td>-0.7321</td>\n",
              "    </tr>\n",
              "    <tr>\n",
              "      <th>204</th>\n",
              "      <td>2023-02-01</td>\n",
              "      <td>0</td>\n",
              "      <td>4.33</td>\n",
              "      <td>3.4</td>\n",
              "      <td>5.6</td>\n",
              "      <td>-0.6897</td>\n",
              "    </tr>\n",
              "    <tr>\n",
              "      <th>205</th>\n",
              "      <td>2023-03-22</td>\n",
              "      <td>0</td>\n",
              "      <td>4.58</td>\n",
              "      <td>3.6</td>\n",
              "      <td>5.5</td>\n",
              "      <td>-0.5026</td>\n",
              "    </tr>\n",
              "  </tbody>\n",
              "</table>\n",
              "<p>206 rows × 6 columns</p>\n",
              "</div>\n",
              "      <button class=\"colab-df-convert\" onclick=\"convertToInteractive('df-08edc63e-40dd-47d3-886e-64b4351bb2ab')\"\n",
              "              title=\"Convert this dataframe to an interactive table.\"\n",
              "              style=\"display:none;\">\n",
              "        \n",
              "  <svg xmlns=\"http://www.w3.org/2000/svg\" height=\"24px\"viewBox=\"0 0 24 24\"\n",
              "       width=\"24px\">\n",
              "    <path d=\"M0 0h24v24H0V0z\" fill=\"none\"/>\n",
              "    <path d=\"M18.56 5.44l.94 2.06.94-2.06 2.06-.94-2.06-.94-.94-2.06-.94 2.06-2.06.94zm-11 1L8.5 8.5l.94-2.06 2.06-.94-2.06-.94L8.5 2.5l-.94 2.06-2.06.94zm10 10l.94 2.06.94-2.06 2.06-.94-2.06-.94-.94-2.06-.94 2.06-2.06.94z\"/><path d=\"M17.41 7.96l-1.37-1.37c-.4-.4-.92-.59-1.43-.59-.52 0-1.04.2-1.43.59L10.3 9.45l-7.72 7.72c-.78.78-.78 2.05 0 2.83L4 21.41c.39.39.9.59 1.41.59.51 0 1.02-.2 1.41-.59l7.78-7.78 2.81-2.81c.8-.78.8-2.07 0-2.86zM5.41 20L4 18.59l7.72-7.72 1.47 1.35L5.41 20z\"/>\n",
              "  </svg>\n",
              "      </button>\n",
              "      \n",
              "  <style>\n",
              "    .colab-df-container {\n",
              "      display:flex;\n",
              "      flex-wrap:wrap;\n",
              "      gap: 12px;\n",
              "    }\n",
              "\n",
              "    .colab-df-convert {\n",
              "      background-color: #E8F0FE;\n",
              "      border: none;\n",
              "      border-radius: 50%;\n",
              "      cursor: pointer;\n",
              "      display: none;\n",
              "      fill: #1967D2;\n",
              "      height: 32px;\n",
              "      padding: 0 0 0 0;\n",
              "      width: 32px;\n",
              "    }\n",
              "\n",
              "    .colab-df-convert:hover {\n",
              "      background-color: #E2EBFA;\n",
              "      box-shadow: 0px 1px 2px rgba(60, 64, 67, 0.3), 0px 1px 3px 1px rgba(60, 64, 67, 0.15);\n",
              "      fill: #174EA6;\n",
              "    }\n",
              "\n",
              "    [theme=dark] .colab-df-convert {\n",
              "      background-color: #3B4455;\n",
              "      fill: #D2E3FC;\n",
              "    }\n",
              "\n",
              "    [theme=dark] .colab-df-convert:hover {\n",
              "      background-color: #434B5C;\n",
              "      box-shadow: 0px 1px 3px 1px rgba(0, 0, 0, 0.15);\n",
              "      filter: drop-shadow(0px 1px 2px rgba(0, 0, 0, 0.3));\n",
              "      fill: #FFFFFF;\n",
              "    }\n",
              "  </style>\n",
              "\n",
              "      <script>\n",
              "        const buttonEl =\n",
              "          document.querySelector('#df-08edc63e-40dd-47d3-886e-64b4351bb2ab button.colab-df-convert');\n",
              "        buttonEl.style.display =\n",
              "          google.colab.kernel.accessAllowed ? 'block' : 'none';\n",
              "\n",
              "        async function convertToInteractive(key) {\n",
              "          const element = document.querySelector('#df-08edc63e-40dd-47d3-886e-64b4351bb2ab');\n",
              "          const dataTable =\n",
              "            await google.colab.kernel.invokeFunction('convertToInteractive',\n",
              "                                                     [key], {});\n",
              "          if (!dataTable) return;\n",
              "\n",
              "          const docLinkHtml = 'Like what you see? Visit the ' +\n",
              "            '<a target=\"_blank\" href=https://colab.research.google.com/notebooks/data_table.ipynb>data table notebook</a>'\n",
              "            + ' to learn more about interactive tables.';\n",
              "          element.innerHTML = '';\n",
              "          dataTable['output_type'] = 'display_data';\n",
              "          await google.colab.output.renderOutput(dataTable, element);\n",
              "          const docLink = document.createElement('div');\n",
              "          docLink.innerHTML = docLinkHtml;\n",
              "          element.appendChild(docLink);\n",
              "        }\n",
              "      </script>\n",
              "    </div>\n",
              "  </div>\n",
              "  "
            ]
          },
          "metadata": {},
          "execution_count": 3
        }
      ]
    },
    {
      "cell_type": "code",
      "source": [
        "combined_df = pd.merge(fomc_statements, econs_metrics, on='Meeting_Date') #Merging the dataframes, this is to ensure that the metrics matches the statements and labels.\n",
        "y_labels = combined_df['Label']\n",
        "x_text = combined_df['Statement']\n",
        "x_metrics = combined_df[['Fed_fund_rate', 'Unemployment_rate', 'Core_CPI', 'US_10-2_Spread']]"
      ],
      "metadata": {
        "id": "eJxTDb0dr0KO"
      },
      "execution_count": 4,
      "outputs": []
    },
    {
      "cell_type": "code",
      "source": [
        "### Calling each of the classifier models first ###\n",
        "from sklearn.tree import DecisionTreeClassifier\n",
        "DT_model = make_pipeline(StandardScaler(), DecisionTreeClassifier(random_state=42))\n",
        "\n",
        "from sklearn.ensemble import RandomForestClassifier\n",
        "RF_model = make_pipeline(StandardScaler(), RandomForestClassifier(random_state=42))\n",
        "\n",
        "!pip install xgboost\n",
        "import xgboost as xgb\n",
        "XGB_model = make_pipeline(StandardScaler(), xgb.XGBClassifier(objective='binary:logistic', random_state=42))"
      ],
      "metadata": {
        "colab": {
          "base_uri": "https://localhost:8080/"
        },
        "id": "quHXzidHrKKc",
        "outputId": "5dcfb0b5-1fc2-44fe-c7fd-70e757b0a1bc"
      },
      "execution_count": 5,
      "outputs": [
        {
          "output_type": "stream",
          "name": "stdout",
          "text": [
            "Looking in indexes: https://pypi.org/simple, https://us-python.pkg.dev/colab-wheels/public/simple/\n",
            "Requirement already satisfied: xgboost in /usr/local/lib/python3.10/dist-packages (1.7.5)\n",
            "Requirement already satisfied: numpy in /usr/local/lib/python3.10/dist-packages (from xgboost) (1.22.4)\n",
            "Requirement already satisfied: scipy in /usr/local/lib/python3.10/dist-packages (from xgboost) (1.10.1)\n"
          ]
        }
      ]
    },
    {
      "cell_type": "markdown",
      "source": [
        "# We will first utilize the simple TfidfVectorizer"
      ],
      "metadata": {
        "id": "bt8-Nq6ysJst"
      }
    },
    {
      "cell_type": "code",
      "source": [
        "tfidf_x_text = x_text.apply(lambda x: re.sub('[^\\w\\s]', '', x.lower())) #To lowercase all text and remove punctuations\n",
        "vectorizer = TfidfVectorizer(stop_words=stopwords.words('english'), max_features=600) #Calling the Tfidf vectorizer object\n",
        "tfidf_x_text = vectorizer.fit_transform(tfidf_x_text).toarray() #Convert the text data to numerical data\n",
        "tfidf_X = np.concatenate((tfidf_x_text, x_metrics.values), axis=1) #Concate the converted text data with the metrics data"
      ],
      "metadata": {
        "id": "vr39jqYRYTIw"
      },
      "execution_count": 6,
      "outputs": []
    },
    {
      "cell_type": "code",
      "source": [
        "tfidf_X_train, tfidf_X_test, y_train, y_test = train_test_split(tfidf_X, y_labels, test_size=0.2, random_state=42) #Split the data into a training set and a test set"
      ],
      "metadata": {
        "id": "C79Qy6TGln0L"
      },
      "execution_count": 7,
      "outputs": []
    },
    {
      "cell_type": "markdown",
      "source": [
        "**Using the Decision Tree model**"
      ],
      "metadata": {
        "id": "DiOxoJS-obD5"
      }
    },
    {
      "cell_type": "code",
      "source": [
        "DT_model.fit(tfidf_X_train, y_train)\n",
        "DT_y_pred = DT_model.predict(tfidf_X_test)\n",
        "print(f\"Accuracy: {accuracy_score(y_test, DT_y_pred)}\")"
      ],
      "metadata": {
        "colab": {
          "base_uri": "https://localhost:8080/"
        },
        "id": "NGHC3t59onm-",
        "outputId": "84dc1147-b973-4c03-fb9a-5f3f40416b3d"
      },
      "execution_count": 8,
      "outputs": [
        {
          "output_type": "stream",
          "name": "stdout",
          "text": [
            "Accuracy: 0.40476190476190477\n"
          ]
        }
      ]
    },
    {
      "cell_type": "markdown",
      "source": [
        "**Using the RandomForest model**"
      ],
      "metadata": {
        "id": "FMCLo298mZdc"
      }
    },
    {
      "cell_type": "code",
      "source": [
        "RF_model.fit(tfidf_X_train, y_train)\n",
        "RF_y_pred = RF_model.predict(tfidf_X_test)\n",
        "print(f\"Accuracy: {accuracy_score(y_test, RF_y_pred)}\")"
      ],
      "metadata": {
        "colab": {
          "base_uri": "https://localhost:8080/"
        },
        "id": "JSgprRYqmFb_",
        "outputId": "4910742c-0710-4414-8d4e-ce83210e41f4"
      },
      "execution_count": 9,
      "outputs": [
        {
          "output_type": "stream",
          "name": "stdout",
          "text": [
            "Accuracy: 0.5476190476190477\n"
          ]
        }
      ]
    },
    {
      "cell_type": "markdown",
      "source": [
        "**Using the XGBoost model**"
      ],
      "metadata": {
        "id": "lZt6kup0mg6H"
      }
    },
    {
      "cell_type": "code",
      "source": [
        "XGB_model.fit(tfidf_X_train, y_train)\n",
        "XGB_y_pred = XGB_model.predict(tfidf_X_test)\n",
        "print(f\"Accuracy: {accuracy_score(y_test, XGB_y_pred)}\")"
      ],
      "metadata": {
        "colab": {
          "base_uri": "https://localhost:8080/"
        },
        "id": "Jm0A5gKDnIfk",
        "outputId": "81e73d84-e542-4be3-ce2a-0be6031457a6"
      },
      "execution_count": 10,
      "outputs": [
        {
          "output_type": "stream",
          "name": "stdout",
          "text": [
            "Accuracy: 0.5\n"
          ]
        }
      ]
    },
    {
      "cell_type": "markdown",
      "source": [
        "# Previously, we tried using a simple Tfidf vectorizer, here we will use the more advanced Glove word embedding"
      ],
      "metadata": {
        "id": "CyeYcq1OpT2C"
      }
    },
    {
      "cell_type": "markdown",
      "source": [
        "GloVe (Global Vectors for Word Representation) is a word embedding technique that represents words as dense vectors in a high-dimensional space. GloVe embeddings capture semantic and syntactic relationships between words based on their co-occurrence statistics in a corpus."
      ],
      "metadata": {
        "id": "WoKQoeWBuNFS"
      }
    },
    {
      "cell_type": "code",
      "source": [
        "from gensim.scripts.glove2word2vec import glove2word2vec\n",
        "from gensim.models import KeyedVectors\n",
        "from nltk.tokenize import word_tokenize"
      ],
      "metadata": {
        "id": "ql3OEaVzurxt"
      },
      "execution_count": 11,
      "outputs": []
    },
    {
      "cell_type": "code",
      "source": [
        "### To uncomment below the first time you run this to download the file from Stanford ###\n",
        "# !wget https://downloads.cs.stanford.edu/nlp/data/glove.6B.zip\n",
        "# !unzip glove*.zip"
      ],
      "metadata": {
        "id": "VStIK9MeqsHW"
      },
      "execution_count": 12,
      "outputs": []
    },
    {
      "cell_type": "code",
      "source": [
        "# Convert the GloVe file to word2vec format\n",
        "glove_input_file = 'glove.6B.100d.txt'\n",
        "word2vec_output_file = 'glove.6B.100d.txt.word2vec'\n",
        "glove2word2vec(glove_input_file, word2vec_output_file)"
      ],
      "metadata": {
        "colab": {
          "base_uri": "https://localhost:8080/"
        },
        "id": "M78wiKNNugHc",
        "outputId": "f5b16c5a-6660-48f8-926b-7a7d2c55fdec"
      },
      "execution_count": 34,
      "outputs": [
        {
          "output_type": "stream",
          "name": "stderr",
          "text": [
            "<ipython-input-34-3c4a279a4c73>:4: DeprecationWarning: Call to deprecated `glove2word2vec` (KeyedVectors.load_word2vec_format(.., binary=False, no_header=True) loads GLoVE text vectors.).\n",
            "  glove2word2vec(glove_input_file, word2vec_output_file)\n"
          ]
        },
        {
          "output_type": "execute_result",
          "data": {
            "text/plain": [
              "(400000, 100)"
            ]
          },
          "metadata": {},
          "execution_count": 34
        }
      ]
    },
    {
      "cell_type": "code",
      "source": [
        "# Load the converted GloVe vectors\n",
        "glove_model = KeyedVectors.load_word2vec_format(word2vec_output_file, binary=False)\n",
        "\n",
        "def get_vector(word):\n",
        "    if word in glove_model:\n",
        "        return glove_model[word]\n",
        "    else:\n",
        "        return np.zeros(glove_model.vector_size)"
      ],
      "metadata": {
        "id": "pEX23CtLzslO"
      },
      "execution_count": 35,
      "outputs": []
    },
    {
      "cell_type": "code",
      "source": [
        "glove_combined_df = combined_df.copy()\n",
        "glove_combined_df['Statement'] = glove_combined_df['Statement'].apply(word_tokenize) #Tokenize the text\n",
        "glove_combined_df['Vector'] = glove_combined_df['Statement'].apply(lambda x: np.mean([get_vector(w) for w in x], axis=0)) #Convert the text to vectors\n",
        "glove_temp = np.array(glove_combined_df['Vector'].to_list())"
      ],
      "metadata": {
        "id": "LQ8xnC8h1uW6"
      },
      "execution_count": 36,
      "outputs": []
    },
    {
      "cell_type": "code",
      "source": [
        "glove_X = np.concatenate((glove_temp, x_metrics.values), axis=1) #Concate the converted text data with the metrics data\n",
        "glove_X_train, glove_X_test, y_train, y_test = train_test_split(glove_X, y_labels, test_size=0.2, random_state=42) #Split the data into a training set and a test set"
      ],
      "metadata": {
        "id": "8N3x7KlH0-mU"
      },
      "execution_count": 37,
      "outputs": []
    },
    {
      "cell_type": "markdown",
      "source": [
        "**Using the Decision Tree model**"
      ],
      "metadata": {
        "id": "c22QPMhm20kK"
      }
    },
    {
      "cell_type": "code",
      "source": [
        "DT_model.fit(glove_X_train, y_train)\n",
        "DT_y_pred_glove = DT_model.predict(glove_X_test)\n",
        "print(f\"Accuracy: {accuracy_score(y_test, DT_y_pred_glove)}\")"
      ],
      "metadata": {
        "colab": {
          "base_uri": "https://localhost:8080/"
        },
        "id": "GSDXXoGm3YJk",
        "outputId": "0b03fdba-47c6-4874-be03-b207eab0c76e"
      },
      "execution_count": 38,
      "outputs": [
        {
          "output_type": "stream",
          "name": "stdout",
          "text": [
            "Accuracy: 0.6428571428571429\n"
          ]
        }
      ]
    },
    {
      "cell_type": "markdown",
      "source": [
        "**Using the Random Forest model**"
      ],
      "metadata": {
        "id": "dOd_8J-_3kdR"
      }
    },
    {
      "cell_type": "code",
      "source": [
        "RF_model.fit(glove_X_train, y_train)\n",
        "RF_y_pred_glove = RF_model.predict(glove_X_test)\n",
        "print(f\"Accuracy: {accuracy_score(y_test, RF_y_pred_glove)}\")"
      ],
      "metadata": {
        "colab": {
          "base_uri": "https://localhost:8080/"
        },
        "id": "e8a6R7X73gN2",
        "outputId": "2f2f2d64-6b54-452f-efa6-714f8a149473"
      },
      "execution_count": 39,
      "outputs": [
        {
          "output_type": "stream",
          "name": "stdout",
          "text": [
            "Accuracy: 0.6190476190476191\n"
          ]
        }
      ]
    },
    {
      "cell_type": "markdown",
      "source": [
        "**Using the XGBoost model**"
      ],
      "metadata": {
        "id": "fnVFguIK38OC"
      }
    },
    {
      "cell_type": "code",
      "source": [
        "XGB_model.fit(glove_X_train, y_train)\n",
        "XGB_y_pred_glove = XGB_model.predict(glove_X_test)\n",
        "print(f\"Accuracy: {accuracy_score(y_test, XGB_y_pred_glove)}\")"
      ],
      "metadata": {
        "colab": {
          "base_uri": "https://localhost:8080/"
        },
        "id": "XS6mGpdW3xBY",
        "outputId": "9cf8e53f-90d1-4fb7-ad01-e1ef4d34e93e"
      },
      "execution_count": 40,
      "outputs": [
        {
          "output_type": "stream",
          "name": "stdout",
          "text": [
            "Accuracy: 0.5952380952380952\n"
          ]
        }
      ]
    },
    {
      "cell_type": "markdown",
      "source": [
        "# In this section, we will try the Doc2Vec embedding model."
      ],
      "metadata": {
        "id": "nk4ei8k94S5z"
      }
    },
    {
      "cell_type": "markdown",
      "source": [
        "It can be a good choice if the meaning of the statement is derived from the sequence of words or the overall context rather than the presence of individual words."
      ],
      "metadata": {
        "id": "Z0i5W8Sc4eGo"
      }
    },
    {
      "cell_type": "code",
      "source": [
        "import gensim\n",
        "from gensim.models.doc2vec import Doc2Vec, TaggedDocument"
      ],
      "metadata": {
        "id": "ww-ph0we4dgg"
      },
      "execution_count": 20,
      "outputs": []
    },
    {
      "cell_type": "code",
      "source": [
        "### Represent each document as a TaggedDocument object\n",
        "tagged_documents = [TaggedDocument(words=word_tokenize(_d.lower()), tags=[str(i)]) for i, _d in enumerate(combined_df['Statement'])] "
      ],
      "metadata": {
        "id": "j6VlK_1543aS"
      },
      "execution_count": 21,
      "outputs": []
    },
    {
      "cell_type": "code",
      "source": [
        "### Train a Doc2Vec model on the Tagged docmuments ###\n",
        "D2V_model = Doc2Vec(tagged_documents, vector_size=100, window=2, min_count=1, workers=4)"
      ],
      "metadata": {
        "id": "agpsLHJS5END"
      },
      "execution_count": 22,
      "outputs": []
    },
    {
      "cell_type": "code",
      "source": [
        "### Transform each document into a vector using the trained D2V_model ###\n",
        "combined_df_D2V = combined_df.copy() \n",
        "combined_df_D2V['doc_vector'] = combined_df_D2V['Statement'].apply(lambda x: D2V_model.infer_vector(word_tokenize(x.lower())))\n",
        "\n",
        "D2V_temp = np.array(combined_df_D2V['doc_vector'].to_list())\n",
        "D2V_X = np.concatenate((D2V_temp, x_metrics.values), axis=1) #Concate the converted text data with the metrics data\n",
        "D2V_X_train, D2V_X_test, y_train, y_test = train_test_split(D2V_X, y_labels, test_size=0.2, random_state=42) #Split the data into a training set and a test set"
      ],
      "metadata": {
        "id": "LI67SdTF5X29"
      },
      "execution_count": 23,
      "outputs": []
    },
    {
      "cell_type": "markdown",
      "source": [
        "**Using the Decision Tree model**"
      ],
      "metadata": {
        "id": "KDjN5H4a6aid"
      }
    },
    {
      "cell_type": "code",
      "source": [
        "DT_model.fit(D2V_X_train, y_train)\n",
        "DT_y_pred_D2V = DT_model.predict(D2V_X_test)\n",
        "print(f\"Accuracy: {accuracy_score(y_test, DT_y_pred_D2V)}\")"
      ],
      "metadata": {
        "colab": {
          "base_uri": "https://localhost:8080/"
        },
        "id": "UQ_0SIsr6YJI",
        "outputId": "1eaaf228-7985-465f-f27b-37bd999cc807"
      },
      "execution_count": 24,
      "outputs": [
        {
          "output_type": "stream",
          "name": "stdout",
          "text": [
            "Accuracy: 0.5952380952380952\n"
          ]
        }
      ]
    },
    {
      "cell_type": "markdown",
      "source": [
        "**Using the Random Forest model**"
      ],
      "metadata": {
        "id": "ZRtN6Ik66p_5"
      }
    },
    {
      "cell_type": "code",
      "source": [
        "RF_model.fit(D2V_X_train, y_train)\n",
        "RF_y_pred_D2V = RF_model.predict(D2V_X_test)\n",
        "print(f\"Accuracy: {accuracy_score(y_test, RF_y_pred_D2V)}\")"
      ],
      "metadata": {
        "colab": {
          "base_uri": "https://localhost:8080/"
        },
        "id": "UwUpFkrN6nPq",
        "outputId": "44e6972c-1790-4500-d39a-2e7f2a131f19"
      },
      "execution_count": 25,
      "outputs": [
        {
          "output_type": "stream",
          "name": "stdout",
          "text": [
            "Accuracy: 0.5714285714285714\n"
          ]
        }
      ]
    },
    {
      "cell_type": "markdown",
      "source": [
        "**Using the XGBoost model**"
      ],
      "metadata": {
        "id": "RuXwJ-DN64Ns"
      }
    },
    {
      "cell_type": "code",
      "source": [
        "XGB_model.fit(D2V_X_train, y_train)\n",
        "XGB_y_pred_D2V = XGB_model.predict(D2V_X_test)\n",
        "print(f\"Accuracy: {accuracy_score(y_test, XGB_y_pred_D2V)}\")"
      ],
      "metadata": {
        "colab": {
          "base_uri": "https://localhost:8080/"
        },
        "id": "jqOmi3RP60Ew",
        "outputId": "092052e9-d43e-4290-cf83-0099324d1241"
      },
      "execution_count": 26,
      "outputs": [
        {
          "output_type": "stream",
          "name": "stdout",
          "text": [
            "Accuracy: 0.5476190476190477\n"
          ]
        }
      ]
    },
    {
      "cell_type": "markdown",
      "source": [
        "# We will try using a pre-trained BERT model to extract features from the text data"
      ],
      "metadata": {
        "id": "1x3mcWwn8dYw"
      }
    },
    {
      "cell_type": "code",
      "source": [],
      "metadata": {
        "id": "Hlpd1zul9BfI"
      },
      "execution_count": null,
      "outputs": []
    }
  ]
}